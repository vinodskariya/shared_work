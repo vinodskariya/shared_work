{
  "nbformat": 4,
  "nbformat_minor": 0,
  "metadata": {
    "colab": {
      "provenance": [],
      "authorship_tag": "ABX9TyPvhMgaZPDM94aR2pX5430C",
      "include_colab_link": true
    },
    "kernelspec": {
      "name": "python3",
      "display_name": "Python 3"
    },
    "language_info": {
      "name": "python"
    }
  },
  "cells": [
    {
      "cell_type": "markdown",
      "metadata": {
        "id": "view-in-github",
        "colab_type": "text"
      },
      "source": [
        "<a href=\"https://colab.research.google.com/github/vinodskariya/shared_work/blob/main/Copy_of_layoff_analysis2.ipynb\" target=\"_parent\"><img src=\"https://colab.research.google.com/assets/colab-badge.svg\" alt=\"Open In Colab\"/></a>"
      ]
    },
    {
      "cell_type": "markdown",
      "source": [
        "LOAD LIBRARIES\n",
        "\n",
        "Data set updated can be found here for download"
      ],
      "metadata": {
        "id": "eM9_t3pxYKsD"
      }
    },
    {
      "cell_type": "code",
      "source": [
        "\n",
        "\n",
        "import numpy as np\n",
        "import pandas as pd\n",
        "import matplotlib.pyplot as plt\n",
        "import plotly.express as px\n"
      ],
      "metadata": {
        "id": "DLzx6aElIBBm"
      },
      "execution_count": 3,
      "outputs": []
    },
    {
      "cell_type": "markdown",
      "source": [
        "LOAD DATA FROM FILE TO GOOGLE COLAB"
      ],
      "metadata": {
        "id": "-gBkWDaIYONW"
      }
    },
    {
      "cell_type": "code",
      "source": [
        "from google.colab import files\n",
        "uploaded = files.upload()"
      ],
      "metadata": {
        "colab": {
          "base_uri": "https://localhost:8080/",
          "height": 74
        },
        "id": "oT6EfczRIygZ",
        "outputId": "90686166-a53e-4584-afbf-2c18bda342a5"
      },
      "execution_count": 10,
      "outputs": [
        {
          "output_type": "display_data",
          "data": {
            "text/plain": [
              "<IPython.core.display.HTML object>"
            ],
            "text/html": [
              "\n",
              "     <input type=\"file\" id=\"files-97e4f9ec-27e6-468b-b162-5d15d20f97ed\" name=\"files[]\" multiple disabled\n",
              "        style=\"border:none\" />\n",
              "     <output id=\"result-97e4f9ec-27e6-468b-b162-5d15d20f97ed\">\n",
              "      Upload widget is only available when the cell has been executed in the\n",
              "      current browser session. Please rerun this cell to enable.\n",
              "      </output>\n",
              "      <script>// Copyright 2017 Google LLC\n",
              "//\n",
              "// Licensed under the Apache License, Version 2.0 (the \"License\");\n",
              "// you may not use this file except in compliance with the License.\n",
              "// You may obtain a copy of the License at\n",
              "//\n",
              "//      http://www.apache.org/licenses/LICENSE-2.0\n",
              "//\n",
              "// Unless required by applicable law or agreed to in writing, software\n",
              "// distributed under the License is distributed on an \"AS IS\" BASIS,\n",
              "// WITHOUT WARRANTIES OR CONDITIONS OF ANY KIND, either express or implied.\n",
              "// See the License for the specific language governing permissions and\n",
              "// limitations under the License.\n",
              "\n",
              "/**\n",
              " * @fileoverview Helpers for google.colab Python module.\n",
              " */\n",
              "(function(scope) {\n",
              "function span(text, styleAttributes = {}) {\n",
              "  const element = document.createElement('span');\n",
              "  element.textContent = text;\n",
              "  for (const key of Object.keys(styleAttributes)) {\n",
              "    element.style[key] = styleAttributes[key];\n",
              "  }\n",
              "  return element;\n",
              "}\n",
              "\n",
              "// Max number of bytes which will be uploaded at a time.\n",
              "const MAX_PAYLOAD_SIZE = 100 * 1024;\n",
              "\n",
              "function _uploadFiles(inputId, outputId) {\n",
              "  const steps = uploadFilesStep(inputId, outputId);\n",
              "  const outputElement = document.getElementById(outputId);\n",
              "  // Cache steps on the outputElement to make it available for the next call\n",
              "  // to uploadFilesContinue from Python.\n",
              "  outputElement.steps = steps;\n",
              "\n",
              "  return _uploadFilesContinue(outputId);\n",
              "}\n",
              "\n",
              "// This is roughly an async generator (not supported in the browser yet),\n",
              "// where there are multiple asynchronous steps and the Python side is going\n",
              "// to poll for completion of each step.\n",
              "// This uses a Promise to block the python side on completion of each step,\n",
              "// then passes the result of the previous step as the input to the next step.\n",
              "function _uploadFilesContinue(outputId) {\n",
              "  const outputElement = document.getElementById(outputId);\n",
              "  const steps = outputElement.steps;\n",
              "\n",
              "  const next = steps.next(outputElement.lastPromiseValue);\n",
              "  return Promise.resolve(next.value.promise).then((value) => {\n",
              "    // Cache the last promise value to make it available to the next\n",
              "    // step of the generator.\n",
              "    outputElement.lastPromiseValue = value;\n",
              "    return next.value.response;\n",
              "  });\n",
              "}\n",
              "\n",
              "/**\n",
              " * Generator function which is called between each async step of the upload\n",
              " * process.\n",
              " * @param {string} inputId Element ID of the input file picker element.\n",
              " * @param {string} outputId Element ID of the output display.\n",
              " * @return {!Iterable<!Object>} Iterable of next steps.\n",
              " */\n",
              "function* uploadFilesStep(inputId, outputId) {\n",
              "  const inputElement = document.getElementById(inputId);\n",
              "  inputElement.disabled = false;\n",
              "\n",
              "  const outputElement = document.getElementById(outputId);\n",
              "  outputElement.innerHTML = '';\n",
              "\n",
              "  const pickedPromise = new Promise((resolve) => {\n",
              "    inputElement.addEventListener('change', (e) => {\n",
              "      resolve(e.target.files);\n",
              "    });\n",
              "  });\n",
              "\n",
              "  const cancel = document.createElement('button');\n",
              "  inputElement.parentElement.appendChild(cancel);\n",
              "  cancel.textContent = 'Cancel upload';\n",
              "  const cancelPromise = new Promise((resolve) => {\n",
              "    cancel.onclick = () => {\n",
              "      resolve(null);\n",
              "    };\n",
              "  });\n",
              "\n",
              "  // Wait for the user to pick the files.\n",
              "  const files = yield {\n",
              "    promise: Promise.race([pickedPromise, cancelPromise]),\n",
              "    response: {\n",
              "      action: 'starting',\n",
              "    }\n",
              "  };\n",
              "\n",
              "  cancel.remove();\n",
              "\n",
              "  // Disable the input element since further picks are not allowed.\n",
              "  inputElement.disabled = true;\n",
              "\n",
              "  if (!files) {\n",
              "    return {\n",
              "      response: {\n",
              "        action: 'complete',\n",
              "      }\n",
              "    };\n",
              "  }\n",
              "\n",
              "  for (const file of files) {\n",
              "    const li = document.createElement('li');\n",
              "    li.append(span(file.name, {fontWeight: 'bold'}));\n",
              "    li.append(span(\n",
              "        `(${file.type || 'n/a'}) - ${file.size} bytes, ` +\n",
              "        `last modified: ${\n",
              "            file.lastModifiedDate ? file.lastModifiedDate.toLocaleDateString() :\n",
              "                                    'n/a'} - `));\n",
              "    const percent = span('0% done');\n",
              "    li.appendChild(percent);\n",
              "\n",
              "    outputElement.appendChild(li);\n",
              "\n",
              "    const fileDataPromise = new Promise((resolve) => {\n",
              "      const reader = new FileReader();\n",
              "      reader.onload = (e) => {\n",
              "        resolve(e.target.result);\n",
              "      };\n",
              "      reader.readAsArrayBuffer(file);\n",
              "    });\n",
              "    // Wait for the data to be ready.\n",
              "    let fileData = yield {\n",
              "      promise: fileDataPromise,\n",
              "      response: {\n",
              "        action: 'continue',\n",
              "      }\n",
              "    };\n",
              "\n",
              "    // Use a chunked sending to avoid message size limits. See b/62115660.\n",
              "    let position = 0;\n",
              "    do {\n",
              "      const length = Math.min(fileData.byteLength - position, MAX_PAYLOAD_SIZE);\n",
              "      const chunk = new Uint8Array(fileData, position, length);\n",
              "      position += length;\n",
              "\n",
              "      const base64 = btoa(String.fromCharCode.apply(null, chunk));\n",
              "      yield {\n",
              "        response: {\n",
              "          action: 'append',\n",
              "          file: file.name,\n",
              "          data: base64,\n",
              "        },\n",
              "      };\n",
              "\n",
              "      let percentDone = fileData.byteLength === 0 ?\n",
              "          100 :\n",
              "          Math.round((position / fileData.byteLength) * 100);\n",
              "      percent.textContent = `${percentDone}% done`;\n",
              "\n",
              "    } while (position < fileData.byteLength);\n",
              "  }\n",
              "\n",
              "  // All done.\n",
              "  yield {\n",
              "    response: {\n",
              "      action: 'complete',\n",
              "    }\n",
              "  };\n",
              "}\n",
              "\n",
              "scope.google = scope.google || {};\n",
              "scope.google.colab = scope.google.colab || {};\n",
              "scope.google.colab._files = {\n",
              "  _uploadFiles,\n",
              "  _uploadFilesContinue,\n",
              "};\n",
              "})(self);\n",
              "</script> "
            ]
          },
          "metadata": {}
        },
        {
          "output_type": "stream",
          "name": "stdout",
          "text": [
            "Saving layoffs.csv to layoffs.csv\n"
          ]
        }
      ]
    },
    {
      "cell_type": "markdown",
      "source": [
        "LOAD DATA INTO PANDAS DATA FRAME"
      ],
      "metadata": {
        "id": "i9Wkb6CCYTSp"
      }
    },
    {
      "cell_type": "code",
      "source": [
        "import io\n",
        "df = pd.read_csv(io.StringIO(uploaded['layoffs.csv'].decode('latin-1')))"
      ],
      "metadata": {
        "id": "CdIdh9mTLATU"
      },
      "execution_count": 11,
      "outputs": []
    },
    {
      "cell_type": "code",
      "source": [
        "df"
      ],
      "metadata": {
        "colab": {
          "base_uri": "https://localhost:8080/",
          "height": 423
        },
        "id": "MZwx3R-LLFf0",
        "outputId": "54527268-7691-410c-a872-98cba168f851"
      },
      "execution_count": 12,
      "outputs": [
        {
          "output_type": "execute_result",
          "data": {
            "text/plain": [
              "            company        location        industry  total_laid_off  \\\n",
              "0              Veev     SF Bay Area     Real Estate           100.0   \n",
              "1        GoTo Group         Jakarta  Transportation          1000.0   \n",
              "2              Juul     SF Bay Area        Consumer           400.0   \n",
              "3        InfluxData     SF Bay Area             NaN            65.0   \n",
              "4          Coinbase     SF Bay Area          Crypto            60.0   \n",
              "...             ...             ...             ...             ...   \n",
              "1569        Service     Los Angeles          Travel             NaN   \n",
              "1570   HopSkipDrive     Los Angeles  Transportation             8.0   \n",
              "1571    Panda Squad     SF Bay Area        Consumer             6.0   \n",
              "1572  Tamara Mellon     Los Angeles          Retail            20.0   \n",
              "1573       EasyPost  Salt Lake City       Logistics            75.0   \n",
              "\n",
              "      percentage        date  funds_raised     stage        country  \n",
              "0           0.30  2022-11-11         597.0  Series D  United States  \n",
              "1           0.10  2022-11-10        1300.0   Unknown      Indonesia  \n",
              "2           0.30  2022-11-10        1500.0   Unknown  United States  \n",
              "3           0.27  2022-11-10         119.0  Series D  United States  \n",
              "4            NaN  2022-11-10         549.0       IPO  United States  \n",
              "...          ...         ...           ...       ...            ...  \n",
              "1569        1.00  2020-03-16           5.1      Seed  United States  \n",
              "1570        0.10  2020-03-13          45.0   Unknown  United States  \n",
              "1571        0.75  2020-03-13           1.0      Seed  United States  \n",
              "1572        0.40  2020-03-12          90.0  Series C  United States  \n",
              "1573         NaN  2020-03-11          12.0  Series A  United States  \n",
              "\n",
              "[1574 rows x 9 columns]"
            ],
            "text/html": [
              "\n",
              "  <div id=\"df-a7adb1c6-5dce-4d29-8dff-e3d5baa2b06c\">\n",
              "    <div class=\"colab-df-container\">\n",
              "      <div>\n",
              "<style scoped>\n",
              "    .dataframe tbody tr th:only-of-type {\n",
              "        vertical-align: middle;\n",
              "    }\n",
              "\n",
              "    .dataframe tbody tr th {\n",
              "        vertical-align: top;\n",
              "    }\n",
              "\n",
              "    .dataframe thead th {\n",
              "        text-align: right;\n",
              "    }\n",
              "</style>\n",
              "<table border=\"1\" class=\"dataframe\">\n",
              "  <thead>\n",
              "    <tr style=\"text-align: right;\">\n",
              "      <th></th>\n",
              "      <th>company</th>\n",
              "      <th>location</th>\n",
              "      <th>industry</th>\n",
              "      <th>total_laid_off</th>\n",
              "      <th>percentage</th>\n",
              "      <th>date</th>\n",
              "      <th>funds_raised</th>\n",
              "      <th>stage</th>\n",
              "      <th>country</th>\n",
              "    </tr>\n",
              "  </thead>\n",
              "  <tbody>\n",
              "    <tr>\n",
              "      <th>0</th>\n",
              "      <td>Veev</td>\n",
              "      <td>SF Bay Area</td>\n",
              "      <td>Real Estate</td>\n",
              "      <td>100.0</td>\n",
              "      <td>0.30</td>\n",
              "      <td>2022-11-11</td>\n",
              "      <td>597.0</td>\n",
              "      <td>Series D</td>\n",
              "      <td>United States</td>\n",
              "    </tr>\n",
              "    <tr>\n",
              "      <th>1</th>\n",
              "      <td>GoTo Group</td>\n",
              "      <td>Jakarta</td>\n",
              "      <td>Transportation</td>\n",
              "      <td>1000.0</td>\n",
              "      <td>0.10</td>\n",
              "      <td>2022-11-10</td>\n",
              "      <td>1300.0</td>\n",
              "      <td>Unknown</td>\n",
              "      <td>Indonesia</td>\n",
              "    </tr>\n",
              "    <tr>\n",
              "      <th>2</th>\n",
              "      <td>Juul</td>\n",
              "      <td>SF Bay Area</td>\n",
              "      <td>Consumer</td>\n",
              "      <td>400.0</td>\n",
              "      <td>0.30</td>\n",
              "      <td>2022-11-10</td>\n",
              "      <td>1500.0</td>\n",
              "      <td>Unknown</td>\n",
              "      <td>United States</td>\n",
              "    </tr>\n",
              "    <tr>\n",
              "      <th>3</th>\n",
              "      <td>InfluxData</td>\n",
              "      <td>SF Bay Area</td>\n",
              "      <td>NaN</td>\n",
              "      <td>65.0</td>\n",
              "      <td>0.27</td>\n",
              "      <td>2022-11-10</td>\n",
              "      <td>119.0</td>\n",
              "      <td>Series D</td>\n",
              "      <td>United States</td>\n",
              "    </tr>\n",
              "    <tr>\n",
              "      <th>4</th>\n",
              "      <td>Coinbase</td>\n",
              "      <td>SF Bay Area</td>\n",
              "      <td>Crypto</td>\n",
              "      <td>60.0</td>\n",
              "      <td>NaN</td>\n",
              "      <td>2022-11-10</td>\n",
              "      <td>549.0</td>\n",
              "      <td>IPO</td>\n",
              "      <td>United States</td>\n",
              "    </tr>\n",
              "    <tr>\n",
              "      <th>...</th>\n",
              "      <td>...</td>\n",
              "      <td>...</td>\n",
              "      <td>...</td>\n",
              "      <td>...</td>\n",
              "      <td>...</td>\n",
              "      <td>...</td>\n",
              "      <td>...</td>\n",
              "      <td>...</td>\n",
              "      <td>...</td>\n",
              "    </tr>\n",
              "    <tr>\n",
              "      <th>1569</th>\n",
              "      <td>Service</td>\n",
              "      <td>Los Angeles</td>\n",
              "      <td>Travel</td>\n",
              "      <td>NaN</td>\n",
              "      <td>1.00</td>\n",
              "      <td>2020-03-16</td>\n",
              "      <td>5.1</td>\n",
              "      <td>Seed</td>\n",
              "      <td>United States</td>\n",
              "    </tr>\n",
              "    <tr>\n",
              "      <th>1570</th>\n",
              "      <td>HopSkipDrive</td>\n",
              "      <td>Los Angeles</td>\n",
              "      <td>Transportation</td>\n",
              "      <td>8.0</td>\n",
              "      <td>0.10</td>\n",
              "      <td>2020-03-13</td>\n",
              "      <td>45.0</td>\n",
              "      <td>Unknown</td>\n",
              "      <td>United States</td>\n",
              "    </tr>\n",
              "    <tr>\n",
              "      <th>1571</th>\n",
              "      <td>Panda Squad</td>\n",
              "      <td>SF Bay Area</td>\n",
              "      <td>Consumer</td>\n",
              "      <td>6.0</td>\n",
              "      <td>0.75</td>\n",
              "      <td>2020-03-13</td>\n",
              "      <td>1.0</td>\n",
              "      <td>Seed</td>\n",
              "      <td>United States</td>\n",
              "    </tr>\n",
              "    <tr>\n",
              "      <th>1572</th>\n",
              "      <td>Tamara Mellon</td>\n",
              "      <td>Los Angeles</td>\n",
              "      <td>Retail</td>\n",
              "      <td>20.0</td>\n",
              "      <td>0.40</td>\n",
              "      <td>2020-03-12</td>\n",
              "      <td>90.0</td>\n",
              "      <td>Series C</td>\n",
              "      <td>United States</td>\n",
              "    </tr>\n",
              "    <tr>\n",
              "      <th>1573</th>\n",
              "      <td>EasyPost</td>\n",
              "      <td>Salt Lake City</td>\n",
              "      <td>Logistics</td>\n",
              "      <td>75.0</td>\n",
              "      <td>NaN</td>\n",
              "      <td>2020-03-11</td>\n",
              "      <td>12.0</td>\n",
              "      <td>Series A</td>\n",
              "      <td>United States</td>\n",
              "    </tr>\n",
              "  </tbody>\n",
              "</table>\n",
              "<p>1574 rows × 9 columns</p>\n",
              "</div>\n",
              "      <button class=\"colab-df-convert\" onclick=\"convertToInteractive('df-a7adb1c6-5dce-4d29-8dff-e3d5baa2b06c')\"\n",
              "              title=\"Convert this dataframe to an interactive table.\"\n",
              "              style=\"display:none;\">\n",
              "        \n",
              "  <svg xmlns=\"http://www.w3.org/2000/svg\" height=\"24px\"viewBox=\"0 0 24 24\"\n",
              "       width=\"24px\">\n",
              "    <path d=\"M0 0h24v24H0V0z\" fill=\"none\"/>\n",
              "    <path d=\"M18.56 5.44l.94 2.06.94-2.06 2.06-.94-2.06-.94-.94-2.06-.94 2.06-2.06.94zm-11 1L8.5 8.5l.94-2.06 2.06-.94-2.06-.94L8.5 2.5l-.94 2.06-2.06.94zm10 10l.94 2.06.94-2.06 2.06-.94-2.06-.94-.94-2.06-.94 2.06-2.06.94z\"/><path d=\"M17.41 7.96l-1.37-1.37c-.4-.4-.92-.59-1.43-.59-.52 0-1.04.2-1.43.59L10.3 9.45l-7.72 7.72c-.78.78-.78 2.05 0 2.83L4 21.41c.39.39.9.59 1.41.59.51 0 1.02-.2 1.41-.59l7.78-7.78 2.81-2.81c.8-.78.8-2.07 0-2.86zM5.41 20L4 18.59l7.72-7.72 1.47 1.35L5.41 20z\"/>\n",
              "  </svg>\n",
              "      </button>\n",
              "      \n",
              "  <style>\n",
              "    .colab-df-container {\n",
              "      display:flex;\n",
              "      flex-wrap:wrap;\n",
              "      gap: 12px;\n",
              "    }\n",
              "\n",
              "    .colab-df-convert {\n",
              "      background-color: #E8F0FE;\n",
              "      border: none;\n",
              "      border-radius: 50%;\n",
              "      cursor: pointer;\n",
              "      display: none;\n",
              "      fill: #1967D2;\n",
              "      height: 32px;\n",
              "      padding: 0 0 0 0;\n",
              "      width: 32px;\n",
              "    }\n",
              "\n",
              "    .colab-df-convert:hover {\n",
              "      background-color: #E2EBFA;\n",
              "      box-shadow: 0px 1px 2px rgba(60, 64, 67, 0.3), 0px 1px 3px 1px rgba(60, 64, 67, 0.15);\n",
              "      fill: #174EA6;\n",
              "    }\n",
              "\n",
              "    [theme=dark] .colab-df-convert {\n",
              "      background-color: #3B4455;\n",
              "      fill: #D2E3FC;\n",
              "    }\n",
              "\n",
              "    [theme=dark] .colab-df-convert:hover {\n",
              "      background-color: #434B5C;\n",
              "      box-shadow: 0px 1px 3px 1px rgba(0, 0, 0, 0.15);\n",
              "      filter: drop-shadow(0px 1px 2px rgba(0, 0, 0, 0.3));\n",
              "      fill: #FFFFFF;\n",
              "    }\n",
              "  </style>\n",
              "\n",
              "      <script>\n",
              "        const buttonEl =\n",
              "          document.querySelector('#df-a7adb1c6-5dce-4d29-8dff-e3d5baa2b06c button.colab-df-convert');\n",
              "        buttonEl.style.display =\n",
              "          google.colab.kernel.accessAllowed ? 'block' : 'none';\n",
              "\n",
              "        async function convertToInteractive(key) {\n",
              "          const element = document.querySelector('#df-a7adb1c6-5dce-4d29-8dff-e3d5baa2b06c');\n",
              "          const dataTable =\n",
              "            await google.colab.kernel.invokeFunction('convertToInteractive',\n",
              "                                                     [key], {});\n",
              "          if (!dataTable) return;\n",
              "\n",
              "          const docLinkHtml = 'Like what you see? Visit the ' +\n",
              "            '<a target=\"_blank\" href=https://colab.research.google.com/notebooks/data_table.ipynb>data table notebook</a>'\n",
              "            + ' to learn more about interactive tables.';\n",
              "          element.innerHTML = '';\n",
              "          dataTable['output_type'] = 'display_data';\n",
              "          await google.colab.output.renderOutput(dataTable, element);\n",
              "          const docLink = document.createElement('div');\n",
              "          docLink.innerHTML = docLinkHtml;\n",
              "          element.appendChild(docLink);\n",
              "        }\n",
              "      </script>\n",
              "    </div>\n",
              "  </div>\n",
              "  "
            ]
          },
          "metadata": {},
          "execution_count": 12
        }
      ]
    },
    {
      "cell_type": "markdown",
      "source": [
        "INVESTIGATE DATA"
      ],
      "metadata": {
        "id": "LbWliKvaYXqF"
      }
    },
    {
      "cell_type": "code",
      "source": [
        "df.shape"
      ],
      "metadata": {
        "colab": {
          "base_uri": "https://localhost:8080/"
        },
        "id": "N2JxeONGLPjN",
        "outputId": "23804213-b47b-4ebf-c0bc-9234a5673e41"
      },
      "execution_count": 13,
      "outputs": [
        {
          "output_type": "execute_result",
          "data": {
            "text/plain": [
              "(1574, 9)"
            ]
          },
          "metadata": {},
          "execution_count": 13
        }
      ]
    },
    {
      "cell_type": "code",
      "source": [
        "df.info()"
      ],
      "metadata": {
        "colab": {
          "base_uri": "https://localhost:8080/"
        },
        "id": "TFrSGNg8rlpo",
        "outputId": "ee7ed93d-16f8-455c-f5ac-cf15130276f3"
      },
      "execution_count": 14,
      "outputs": [
        {
          "output_type": "stream",
          "name": "stdout",
          "text": [
            "<class 'pandas.core.frame.DataFrame'>\n",
            "RangeIndex: 1574 entries, 0 to 1573\n",
            "Data columns (total 9 columns):\n",
            " #   Column          Non-Null Count  Dtype  \n",
            "---  ------          --------------  -----  \n",
            " 0   company         1574 non-null   object \n",
            " 1   location        1574 non-null   object \n",
            " 2   industry        1571 non-null   object \n",
            " 3   total_laid_off  1132 non-null   float64\n",
            " 4   percentage      1053 non-null   float64\n",
            " 5   date            1574 non-null   object \n",
            " 6   funds_raised    1472 non-null   float64\n",
            " 7   stage           1570 non-null   object \n",
            " 8   country         1574 non-null   object \n",
            "dtypes: float64(3), object(6)\n",
            "memory usage: 110.8+ KB\n"
          ]
        }
      ]
    },
    {
      "cell_type": "code",
      "source": [
        "df['country'].unique()"
      ],
      "metadata": {
        "colab": {
          "base_uri": "https://localhost:8080/"
        },
        "id": "wHhPLCXTrrtb",
        "outputId": "501cd92f-cfec-4c83-ee49-fe30a00d662c"
      },
      "execution_count": 15,
      "outputs": [
        {
          "output_type": "execute_result",
          "data": {
            "text/plain": [
              "array(['United States', 'Indonesia', 'India', 'Sweden', 'Greece',\n",
              "       'Brazil', 'Poland', 'Germany', 'Israel', 'Seychelles', 'Norway',\n",
              "       'Canada', 'United Kingdom', 'Belgium', 'Argentina', 'Netherlands',\n",
              "       'Denmark', 'Hong Kong', 'Singapore', 'New Zealand', 'Australia',\n",
              "       'Malaysia', 'Hungary', 'Vietnam', 'Egypt', 'Austria', 'Thailand',\n",
              "       'Romania', 'Lithuania', 'Nigeria', 'Kenya', 'Chile', 'Luxembourg',\n",
              "       'China', 'Senegal', 'Pakistan', 'United Arab Emirates', 'Colombia',\n",
              "       'Finland', 'Peru', 'Ireland', 'Bahrain', 'Mexico', 'Turkey',\n",
              "       'Russia', 'Uruguay', 'Bulgaria', 'France', 'Switzerland',\n",
              "       'Estonia', 'Portugal', 'South Africa', 'Czech Republic', 'Myanmar'],\n",
              "      dtype=object)"
            ]
          },
          "metadata": {},
          "execution_count": 15
        }
      ]
    },
    {
      "cell_type": "code",
      "source": [
        "df['industry'].unique()"
      ],
      "metadata": {
        "colab": {
          "base_uri": "https://localhost:8080/"
        },
        "id": "P4LJAgmSYeAd",
        "outputId": "26fda0d6-c575-49e0-ba15-8f96478da581"
      },
      "execution_count": 16,
      "outputs": [
        {
          "output_type": "execute_result",
          "data": {
            "text/plain": [
              "array(['Real Estate', 'Transportation', 'Consumer', nan, 'Crypto',\n",
              "       'Other', 'Marketing', 'Education', 'Logistics', 'HR', 'Finance',\n",
              "       'Healthcare', 'Media', 'Aerospace', 'Sales', 'Support', 'Security',\n",
              "       'Data', 'Retail', 'Food', 'Travel', 'Recruiting', 'Legal',\n",
              "       'Construction', 'Fitness', 'Product', 'Energy', 'Infrastructure'],\n",
              "      dtype=object)"
            ]
          },
          "metadata": {},
          "execution_count": 16
        }
      ]
    },
    {
      "cell_type": "code",
      "source": [
        "df.isna().sum()"
      ],
      "metadata": {
        "colab": {
          "base_uri": "https://localhost:8080/"
        },
        "id": "li4u5iwXr8Se",
        "outputId": "abbe5194-892e-4394-805c-81b38488e10c"
      },
      "execution_count": 17,
      "outputs": [
        {
          "output_type": "execute_result",
          "data": {
            "text/plain": [
              "company             0\n",
              "location            0\n",
              "industry            3\n",
              "total_laid_off    442\n",
              "percentage        521\n",
              "date                0\n",
              "funds_raised      102\n",
              "stage               4\n",
              "country             0\n",
              "dtype: int64"
            ]
          },
          "metadata": {},
          "execution_count": 17
        }
      ]
    },
    {
      "cell_type": "code",
      "source": [
        "df.isna().sum()*100/(len(df))"
      ],
      "metadata": {
        "colab": {
          "base_uri": "https://localhost:8080/"
        },
        "id": "RiprDAQcatIp",
        "outputId": "d3a00bf6-95f6-4d82-82ab-5fb9a7fa032d"
      },
      "execution_count": 18,
      "outputs": [
        {
          "output_type": "execute_result",
          "data": {
            "text/plain": [
              "company            0.000000\n",
              "location           0.000000\n",
              "industry           0.190597\n",
              "total_laid_off    28.081321\n",
              "percentage        33.100381\n",
              "date               0.000000\n",
              "funds_raised       6.480305\n",
              "stage              0.254130\n",
              "country            0.000000\n",
              "dtype: float64"
            ]
          },
          "metadata": {},
          "execution_count": 18
        }
      ]
    },
    {
      "cell_type": "markdown",
      "source": [
        "DATA PREPERATION:"
      ],
      "metadata": {
        "id": "3zs09sqQbfCW"
      }
    },
    {
      "cell_type": "code",
      "source": [
        "#Fix date type\n",
        "df[\"date\"] = df[\"date\"].astype('datetime64[ns]')"
      ],
      "metadata": {
        "id": "kQeYnCJ-fw6z"
      },
      "execution_count": 19,
      "outputs": []
    },
    {
      "cell_type": "code",
      "source": [
        "#Remove rows where there's no data for total laid off\n",
        "df1 = df.dropna(subset=['total_laid_off'])"
      ],
      "metadata": {
        "id": "8HD1JfZ5aJmW"
      },
      "execution_count": 20,
      "outputs": []
    },
    {
      "cell_type": "code",
      "source": [
        "df1.isna().sum()"
      ],
      "metadata": {
        "colab": {
          "base_uri": "https://localhost:8080/"
        },
        "id": "Lc7pWeL7cTCX",
        "outputId": "12033099-8d77-465c-88d5-7a9f9557e3c0"
      },
      "execution_count": 21,
      "outputs": [
        {
          "output_type": "execute_result",
          "data": {
            "text/plain": [
              "company             0\n",
              "location            0\n",
              "industry            3\n",
              "total_laid_off      0\n",
              "percentage        291\n",
              "date                0\n",
              "funds_raised       65\n",
              "stage               1\n",
              "country             0\n",
              "dtype: int64"
            ]
          },
          "metadata": {},
          "execution_count": 21
        }
      ]
    },
    {
      "cell_type": "code",
      "source": [
        "df1.shape"
      ],
      "metadata": {
        "colab": {
          "base_uri": "https://localhost:8080/"
        },
        "id": "Ax4scVekcI7Q",
        "outputId": "783a2138-c8f9-4dcc-ea57-848ba716a84b"
      },
      "execution_count": 22,
      "outputs": [
        {
          "output_type": "execute_result",
          "data": {
            "text/plain": [
              "(1132, 9)"
            ]
          },
          "metadata": {},
          "execution_count": 22
        }
      ]
    },
    {
      "cell_type": "code",
      "source": [
        "# Find duplicates in the data set\n",
        "df1[df1.duplicated()]"
      ],
      "metadata": {
        "colab": {
          "base_uri": "https://localhost:8080/",
          "height": 81
        },
        "id": "5pqb-LTnb22j",
        "outputId": "b434717c-b765-44c2-b7db-400ee5068ebf"
      },
      "execution_count": 23,
      "outputs": [
        {
          "output_type": "execute_result",
          "data": {
            "text/plain": [
              "    company location        industry  total_laid_off  percentage       date  \\\n",
              "721   Cazoo   London  Transportation           750.0        0.15 2022-06-07   \n",
              "\n",
              "     funds_raised stage         country  \n",
              "721        2000.0   IPO  United Kingdom  "
            ],
            "text/html": [
              "\n",
              "  <div id=\"df-44c525b8-7dee-49db-8805-edc5df7033c4\">\n",
              "    <div class=\"colab-df-container\">\n",
              "      <div>\n",
              "<style scoped>\n",
              "    .dataframe tbody tr th:only-of-type {\n",
              "        vertical-align: middle;\n",
              "    }\n",
              "\n",
              "    .dataframe tbody tr th {\n",
              "        vertical-align: top;\n",
              "    }\n",
              "\n",
              "    .dataframe thead th {\n",
              "        text-align: right;\n",
              "    }\n",
              "</style>\n",
              "<table border=\"1\" class=\"dataframe\">\n",
              "  <thead>\n",
              "    <tr style=\"text-align: right;\">\n",
              "      <th></th>\n",
              "      <th>company</th>\n",
              "      <th>location</th>\n",
              "      <th>industry</th>\n",
              "      <th>total_laid_off</th>\n",
              "      <th>percentage</th>\n",
              "      <th>date</th>\n",
              "      <th>funds_raised</th>\n",
              "      <th>stage</th>\n",
              "      <th>country</th>\n",
              "    </tr>\n",
              "  </thead>\n",
              "  <tbody>\n",
              "    <tr>\n",
              "      <th>721</th>\n",
              "      <td>Cazoo</td>\n",
              "      <td>London</td>\n",
              "      <td>Transportation</td>\n",
              "      <td>750.0</td>\n",
              "      <td>0.15</td>\n",
              "      <td>2022-06-07</td>\n",
              "      <td>2000.0</td>\n",
              "      <td>IPO</td>\n",
              "      <td>United Kingdom</td>\n",
              "    </tr>\n",
              "  </tbody>\n",
              "</table>\n",
              "</div>\n",
              "      <button class=\"colab-df-convert\" onclick=\"convertToInteractive('df-44c525b8-7dee-49db-8805-edc5df7033c4')\"\n",
              "              title=\"Convert this dataframe to an interactive table.\"\n",
              "              style=\"display:none;\">\n",
              "        \n",
              "  <svg xmlns=\"http://www.w3.org/2000/svg\" height=\"24px\"viewBox=\"0 0 24 24\"\n",
              "       width=\"24px\">\n",
              "    <path d=\"M0 0h24v24H0V0z\" fill=\"none\"/>\n",
              "    <path d=\"M18.56 5.44l.94 2.06.94-2.06 2.06-.94-2.06-.94-.94-2.06-.94 2.06-2.06.94zm-11 1L8.5 8.5l.94-2.06 2.06-.94-2.06-.94L8.5 2.5l-.94 2.06-2.06.94zm10 10l.94 2.06.94-2.06 2.06-.94-2.06-.94-.94-2.06-.94 2.06-2.06.94z\"/><path d=\"M17.41 7.96l-1.37-1.37c-.4-.4-.92-.59-1.43-.59-.52 0-1.04.2-1.43.59L10.3 9.45l-7.72 7.72c-.78.78-.78 2.05 0 2.83L4 21.41c.39.39.9.59 1.41.59.51 0 1.02-.2 1.41-.59l7.78-7.78 2.81-2.81c.8-.78.8-2.07 0-2.86zM5.41 20L4 18.59l7.72-7.72 1.47 1.35L5.41 20z\"/>\n",
              "  </svg>\n",
              "      </button>\n",
              "      \n",
              "  <style>\n",
              "    .colab-df-container {\n",
              "      display:flex;\n",
              "      flex-wrap:wrap;\n",
              "      gap: 12px;\n",
              "    }\n",
              "\n",
              "    .colab-df-convert {\n",
              "      background-color: #E8F0FE;\n",
              "      border: none;\n",
              "      border-radius: 50%;\n",
              "      cursor: pointer;\n",
              "      display: none;\n",
              "      fill: #1967D2;\n",
              "      height: 32px;\n",
              "      padding: 0 0 0 0;\n",
              "      width: 32px;\n",
              "    }\n",
              "\n",
              "    .colab-df-convert:hover {\n",
              "      background-color: #E2EBFA;\n",
              "      box-shadow: 0px 1px 2px rgba(60, 64, 67, 0.3), 0px 1px 3px 1px rgba(60, 64, 67, 0.15);\n",
              "      fill: #174EA6;\n",
              "    }\n",
              "\n",
              "    [theme=dark] .colab-df-convert {\n",
              "      background-color: #3B4455;\n",
              "      fill: #D2E3FC;\n",
              "    }\n",
              "\n",
              "    [theme=dark] .colab-df-convert:hover {\n",
              "      background-color: #434B5C;\n",
              "      box-shadow: 0px 1px 3px 1px rgba(0, 0, 0, 0.15);\n",
              "      filter: drop-shadow(0px 1px 2px rgba(0, 0, 0, 0.3));\n",
              "      fill: #FFFFFF;\n",
              "    }\n",
              "  </style>\n",
              "\n",
              "      <script>\n",
              "        const buttonEl =\n",
              "          document.querySelector('#df-44c525b8-7dee-49db-8805-edc5df7033c4 button.colab-df-convert');\n",
              "        buttonEl.style.display =\n",
              "          google.colab.kernel.accessAllowed ? 'block' : 'none';\n",
              "\n",
              "        async function convertToInteractive(key) {\n",
              "          const element = document.querySelector('#df-44c525b8-7dee-49db-8805-edc5df7033c4');\n",
              "          const dataTable =\n",
              "            await google.colab.kernel.invokeFunction('convertToInteractive',\n",
              "                                                     [key], {});\n",
              "          if (!dataTable) return;\n",
              "\n",
              "          const docLinkHtml = 'Like what you see? Visit the ' +\n",
              "            '<a target=\"_blank\" href=https://colab.research.google.com/notebooks/data_table.ipynb>data table notebook</a>'\n",
              "            + ' to learn more about interactive tables.';\n",
              "          element.innerHTML = '';\n",
              "          dataTable['output_type'] = 'display_data';\n",
              "          await google.colab.output.renderOutput(dataTable, element);\n",
              "          const docLink = document.createElement('div');\n",
              "          docLink.innerHTML = docLinkHtml;\n",
              "          element.appendChild(docLink);\n",
              "        }\n",
              "      </script>\n",
              "    </div>\n",
              "  </div>\n",
              "  "
            ]
          },
          "metadata": {},
          "execution_count": 23
        }
      ]
    },
    {
      "cell_type": "code",
      "source": [
        " # Drop Duplicates\n",
        "df1 = df1.drop_duplicates()"
      ],
      "metadata": {
        "id": "sCV8hoSXb8QP"
      },
      "execution_count": 24,
      "outputs": []
    },
    {
      "cell_type": "code",
      "source": [
        "df1.shape"
      ],
      "metadata": {
        "colab": {
          "base_uri": "https://localhost:8080/"
        },
        "id": "wP1-KcCMcL4x",
        "outputId": "cf029c19-f0d8-4e82-9494-900c70918a2d"
      },
      "execution_count": 25,
      "outputs": [
        {
          "output_type": "execute_result",
          "data": {
            "text/plain": [
              "(1131, 9)"
            ]
          },
          "metadata": {},
          "execution_count": 25
        }
      ]
    },
    {
      "cell_type": "code",
      "source": [
        "df1"
      ],
      "metadata": {
        "colab": {
          "base_uri": "https://localhost:8080/",
          "height": 423
        },
        "id": "kCmfbojTcmql",
        "outputId": "663d1e2e-b2f1-48b6-f7db-0db1dfab375d"
      },
      "execution_count": 26,
      "outputs": [
        {
          "output_type": "execute_result",
          "data": {
            "text/plain": [
              "            company        location        industry  total_laid_off  \\\n",
              "0              Veev     SF Bay Area     Real Estate           100.0   \n",
              "1        GoTo Group         Jakarta  Transportation          1000.0   \n",
              "2              Juul     SF Bay Area        Consumer           400.0   \n",
              "3        InfluxData     SF Bay Area             NaN            65.0   \n",
              "4          Coinbase     SF Bay Area          Crypto            60.0   \n",
              "...             ...             ...             ...             ...   \n",
              "1568       Help.com          Austin         Support            16.0   \n",
              "1570   HopSkipDrive     Los Angeles  Transportation             8.0   \n",
              "1571    Panda Squad     SF Bay Area        Consumer             6.0   \n",
              "1572  Tamara Mellon     Los Angeles          Retail            20.0   \n",
              "1573       EasyPost  Salt Lake City       Logistics            75.0   \n",
              "\n",
              "      percentage       date  funds_raised     stage        country  \n",
              "0           0.30 2022-11-11         597.0  Series D  United States  \n",
              "1           0.10 2022-11-10        1300.0   Unknown      Indonesia  \n",
              "2           0.30 2022-11-10        1500.0   Unknown  United States  \n",
              "3           0.27 2022-11-10         119.0  Series D  United States  \n",
              "4            NaN 2022-11-10         549.0       IPO  United States  \n",
              "...          ...        ...           ...       ...            ...  \n",
              "1568        1.00 2020-03-16           6.0      Seed  United States  \n",
              "1570        0.10 2020-03-13          45.0   Unknown  United States  \n",
              "1571        0.75 2020-03-13           1.0      Seed  United States  \n",
              "1572        0.40 2020-03-12          90.0  Series C  United States  \n",
              "1573         NaN 2020-03-11          12.0  Series A  United States  \n",
              "\n",
              "[1131 rows x 9 columns]"
            ],
            "text/html": [
              "\n",
              "  <div id=\"df-2ab67c4c-c1a6-4e77-866d-139a95ed94a6\">\n",
              "    <div class=\"colab-df-container\">\n",
              "      <div>\n",
              "<style scoped>\n",
              "    .dataframe tbody tr th:only-of-type {\n",
              "        vertical-align: middle;\n",
              "    }\n",
              "\n",
              "    .dataframe tbody tr th {\n",
              "        vertical-align: top;\n",
              "    }\n",
              "\n",
              "    .dataframe thead th {\n",
              "        text-align: right;\n",
              "    }\n",
              "</style>\n",
              "<table border=\"1\" class=\"dataframe\">\n",
              "  <thead>\n",
              "    <tr style=\"text-align: right;\">\n",
              "      <th></th>\n",
              "      <th>company</th>\n",
              "      <th>location</th>\n",
              "      <th>industry</th>\n",
              "      <th>total_laid_off</th>\n",
              "      <th>percentage</th>\n",
              "      <th>date</th>\n",
              "      <th>funds_raised</th>\n",
              "      <th>stage</th>\n",
              "      <th>country</th>\n",
              "    </tr>\n",
              "  </thead>\n",
              "  <tbody>\n",
              "    <tr>\n",
              "      <th>0</th>\n",
              "      <td>Veev</td>\n",
              "      <td>SF Bay Area</td>\n",
              "      <td>Real Estate</td>\n",
              "      <td>100.0</td>\n",
              "      <td>0.30</td>\n",
              "      <td>2022-11-11</td>\n",
              "      <td>597.0</td>\n",
              "      <td>Series D</td>\n",
              "      <td>United States</td>\n",
              "    </tr>\n",
              "    <tr>\n",
              "      <th>1</th>\n",
              "      <td>GoTo Group</td>\n",
              "      <td>Jakarta</td>\n",
              "      <td>Transportation</td>\n",
              "      <td>1000.0</td>\n",
              "      <td>0.10</td>\n",
              "      <td>2022-11-10</td>\n",
              "      <td>1300.0</td>\n",
              "      <td>Unknown</td>\n",
              "      <td>Indonesia</td>\n",
              "    </tr>\n",
              "    <tr>\n",
              "      <th>2</th>\n",
              "      <td>Juul</td>\n",
              "      <td>SF Bay Area</td>\n",
              "      <td>Consumer</td>\n",
              "      <td>400.0</td>\n",
              "      <td>0.30</td>\n",
              "      <td>2022-11-10</td>\n",
              "      <td>1500.0</td>\n",
              "      <td>Unknown</td>\n",
              "      <td>United States</td>\n",
              "    </tr>\n",
              "    <tr>\n",
              "      <th>3</th>\n",
              "      <td>InfluxData</td>\n",
              "      <td>SF Bay Area</td>\n",
              "      <td>NaN</td>\n",
              "      <td>65.0</td>\n",
              "      <td>0.27</td>\n",
              "      <td>2022-11-10</td>\n",
              "      <td>119.0</td>\n",
              "      <td>Series D</td>\n",
              "      <td>United States</td>\n",
              "    </tr>\n",
              "    <tr>\n",
              "      <th>4</th>\n",
              "      <td>Coinbase</td>\n",
              "      <td>SF Bay Area</td>\n",
              "      <td>Crypto</td>\n",
              "      <td>60.0</td>\n",
              "      <td>NaN</td>\n",
              "      <td>2022-11-10</td>\n",
              "      <td>549.0</td>\n",
              "      <td>IPO</td>\n",
              "      <td>United States</td>\n",
              "    </tr>\n",
              "    <tr>\n",
              "      <th>...</th>\n",
              "      <td>...</td>\n",
              "      <td>...</td>\n",
              "      <td>...</td>\n",
              "      <td>...</td>\n",
              "      <td>...</td>\n",
              "      <td>...</td>\n",
              "      <td>...</td>\n",
              "      <td>...</td>\n",
              "      <td>...</td>\n",
              "    </tr>\n",
              "    <tr>\n",
              "      <th>1568</th>\n",
              "      <td>Help.com</td>\n",
              "      <td>Austin</td>\n",
              "      <td>Support</td>\n",
              "      <td>16.0</td>\n",
              "      <td>1.00</td>\n",
              "      <td>2020-03-16</td>\n",
              "      <td>6.0</td>\n",
              "      <td>Seed</td>\n",
              "      <td>United States</td>\n",
              "    </tr>\n",
              "    <tr>\n",
              "      <th>1570</th>\n",
              "      <td>HopSkipDrive</td>\n",
              "      <td>Los Angeles</td>\n",
              "      <td>Transportation</td>\n",
              "      <td>8.0</td>\n",
              "      <td>0.10</td>\n",
              "      <td>2020-03-13</td>\n",
              "      <td>45.0</td>\n",
              "      <td>Unknown</td>\n",
              "      <td>United States</td>\n",
              "    </tr>\n",
              "    <tr>\n",
              "      <th>1571</th>\n",
              "      <td>Panda Squad</td>\n",
              "      <td>SF Bay Area</td>\n",
              "      <td>Consumer</td>\n",
              "      <td>6.0</td>\n",
              "      <td>0.75</td>\n",
              "      <td>2020-03-13</td>\n",
              "      <td>1.0</td>\n",
              "      <td>Seed</td>\n",
              "      <td>United States</td>\n",
              "    </tr>\n",
              "    <tr>\n",
              "      <th>1572</th>\n",
              "      <td>Tamara Mellon</td>\n",
              "      <td>Los Angeles</td>\n",
              "      <td>Retail</td>\n",
              "      <td>20.0</td>\n",
              "      <td>0.40</td>\n",
              "      <td>2020-03-12</td>\n",
              "      <td>90.0</td>\n",
              "      <td>Series C</td>\n",
              "      <td>United States</td>\n",
              "    </tr>\n",
              "    <tr>\n",
              "      <th>1573</th>\n",
              "      <td>EasyPost</td>\n",
              "      <td>Salt Lake City</td>\n",
              "      <td>Logistics</td>\n",
              "      <td>75.0</td>\n",
              "      <td>NaN</td>\n",
              "      <td>2020-03-11</td>\n",
              "      <td>12.0</td>\n",
              "      <td>Series A</td>\n",
              "      <td>United States</td>\n",
              "    </tr>\n",
              "  </tbody>\n",
              "</table>\n",
              "<p>1131 rows × 9 columns</p>\n",
              "</div>\n",
              "      <button class=\"colab-df-convert\" onclick=\"convertToInteractive('df-2ab67c4c-c1a6-4e77-866d-139a95ed94a6')\"\n",
              "              title=\"Convert this dataframe to an interactive table.\"\n",
              "              style=\"display:none;\">\n",
              "        \n",
              "  <svg xmlns=\"http://www.w3.org/2000/svg\" height=\"24px\"viewBox=\"0 0 24 24\"\n",
              "       width=\"24px\">\n",
              "    <path d=\"M0 0h24v24H0V0z\" fill=\"none\"/>\n",
              "    <path d=\"M18.56 5.44l.94 2.06.94-2.06 2.06-.94-2.06-.94-.94-2.06-.94 2.06-2.06.94zm-11 1L8.5 8.5l.94-2.06 2.06-.94-2.06-.94L8.5 2.5l-.94 2.06-2.06.94zm10 10l.94 2.06.94-2.06 2.06-.94-2.06-.94-.94-2.06-.94 2.06-2.06.94z\"/><path d=\"M17.41 7.96l-1.37-1.37c-.4-.4-.92-.59-1.43-.59-.52 0-1.04.2-1.43.59L10.3 9.45l-7.72 7.72c-.78.78-.78 2.05 0 2.83L4 21.41c.39.39.9.59 1.41.59.51 0 1.02-.2 1.41-.59l7.78-7.78 2.81-2.81c.8-.78.8-2.07 0-2.86zM5.41 20L4 18.59l7.72-7.72 1.47 1.35L5.41 20z\"/>\n",
              "  </svg>\n",
              "      </button>\n",
              "      \n",
              "  <style>\n",
              "    .colab-df-container {\n",
              "      display:flex;\n",
              "      flex-wrap:wrap;\n",
              "      gap: 12px;\n",
              "    }\n",
              "\n",
              "    .colab-df-convert {\n",
              "      background-color: #E8F0FE;\n",
              "      border: none;\n",
              "      border-radius: 50%;\n",
              "      cursor: pointer;\n",
              "      display: none;\n",
              "      fill: #1967D2;\n",
              "      height: 32px;\n",
              "      padding: 0 0 0 0;\n",
              "      width: 32px;\n",
              "    }\n",
              "\n",
              "    .colab-df-convert:hover {\n",
              "      background-color: #E2EBFA;\n",
              "      box-shadow: 0px 1px 2px rgba(60, 64, 67, 0.3), 0px 1px 3px 1px rgba(60, 64, 67, 0.15);\n",
              "      fill: #174EA6;\n",
              "    }\n",
              "\n",
              "    [theme=dark] .colab-df-convert {\n",
              "      background-color: #3B4455;\n",
              "      fill: #D2E3FC;\n",
              "    }\n",
              "\n",
              "    [theme=dark] .colab-df-convert:hover {\n",
              "      background-color: #434B5C;\n",
              "      box-shadow: 0px 1px 3px 1px rgba(0, 0, 0, 0.15);\n",
              "      filter: drop-shadow(0px 1px 2px rgba(0, 0, 0, 0.3));\n",
              "      fill: #FFFFFF;\n",
              "    }\n",
              "  </style>\n",
              "\n",
              "      <script>\n",
              "        const buttonEl =\n",
              "          document.querySelector('#df-2ab67c4c-c1a6-4e77-866d-139a95ed94a6 button.colab-df-convert');\n",
              "        buttonEl.style.display =\n",
              "          google.colab.kernel.accessAllowed ? 'block' : 'none';\n",
              "\n",
              "        async function convertToInteractive(key) {\n",
              "          const element = document.querySelector('#df-2ab67c4c-c1a6-4e77-866d-139a95ed94a6');\n",
              "          const dataTable =\n",
              "            await google.colab.kernel.invokeFunction('convertToInteractive',\n",
              "                                                     [key], {});\n",
              "          if (!dataTable) return;\n",
              "\n",
              "          const docLinkHtml = 'Like what you see? Visit the ' +\n",
              "            '<a target=\"_blank\" href=https://colab.research.google.com/notebooks/data_table.ipynb>data table notebook</a>'\n",
              "            + ' to learn more about interactive tables.';\n",
              "          element.innerHTML = '';\n",
              "          dataTable['output_type'] = 'display_data';\n",
              "          await google.colab.output.renderOutput(dataTable, element);\n",
              "          const docLink = document.createElement('div');\n",
              "          docLink.innerHTML = docLinkHtml;\n",
              "          element.appendChild(docLink);\n",
              "        }\n",
              "      </script>\n",
              "    </div>\n",
              "  </div>\n",
              "  "
            ]
          },
          "metadata": {},
          "execution_count": 26
        }
      ]
    },
    {
      "cell_type": "markdown",
      "source": [
        "VISUALIZATIONS"
      ],
      "metadata": {
        "id": "DhFnM9pn0Tlm"
      }
    },
    {
      "cell_type": "code",
      "source": [
        "fig = px.bar(df1, x=\"country\", y=\"total_laid_off\")\n",
        "fig.show()"
      ],
      "metadata": {
        "colab": {
          "base_uri": "https://localhost:8080/",
          "height": 542
        },
        "id": "xGE3L3eENSB-",
        "outputId": "be2f8a9b-0681-4bf3-d5a6-51442bae5a12"
      },
      "execution_count": null,
      "outputs": [
        {
          "output_type": "display_data",
          "data": {
            "text/html": [
              "<html>\n",
              "<head><meta charset=\"utf-8\" /></head>\n",
              "<body>\n",
              "    <div>            <script src=\"https://cdnjs.cloudflare.com/ajax/libs/mathjax/2.7.5/MathJax.js?config=TeX-AMS-MML_SVG\"></script><script type=\"text/javascript\">if (window.MathJax) {MathJax.Hub.Config({SVG: {font: \"STIX-Web\"}});}</script>                <script type=\"text/javascript\">window.PlotlyConfig = {MathJaxConfig: 'local'};</script>\n",
              "        <script src=\"https://cdn.plot.ly/plotly-2.8.3.min.js\"></script>                <div id=\"2ad0952d-c169-418d-a536-1052e1e6ad42\" class=\"plotly-graph-div\" style=\"height:525px; width:100%;\"></div>            <script type=\"text/javascript\">                                    window.PLOTLYENV=window.PLOTLYENV || {};                                    if (document.getElementById(\"2ad0952d-c169-418d-a536-1052e1e6ad42\")) {                    Plotly.newPlot(                        \"2ad0952d-c169-418d-a536-1052e1e6ad42\",                        [{\"alignmentgroup\":\"True\",\"hovertemplate\":\"country=%{x}<br>total_laid_off=%{y}<extra></extra>\",\"legendgroup\":\"\",\"marker\":{\"color\":\"#636efa\",\"pattern\":{\"shape\":\"\"}},\"name\":\"\",\"offsetgroup\":\"\",\"orientation\":\"v\",\"showlegend\":false,\"textposition\":\"auto\",\"x\":[\"United States\",\"Indonesia\",\"United States\",\"United States\",\"United States\",\"United States\",\"United States\",\"United States\",\"United States\",\"United States\",\"United States\",\"United States\",\"United States\",\"India\",\"United States\",\"United States\",\"United States\",\"India\",\"United States\",\"Brazil\",\"United States\",\"Poland\",\"United States\",\"India\",\"Germany\",\"United States\",\"United States\",\"United States\",\"United States\",\"Germany\",\"United States\",\"United States\",\"United States\",\"United States\",\"United States\",\"Israel\",\"Germany\",\"United States\",\"United States\",\"United States\",\"United States\",\"United States\",\"Sweden\",\"Norway\",\"Canada\",\"Canada\",\"Sweden\",\"United States\",\"United States\",\"United States\",\"India\",\"United States\",\"United States\",\"Canada\",\"United States\",\"United States\",\"United States\",\"United States\",\"United States\",\"United States\",\"United States\",\"United States\",\"Israel\",\"United States\",\"United States\",\"Germany\",\"Israel\",\"Israel\",\"United States\",\"Germany\",\"India\",\"Brazil\",\"United States\",\"United States\",\"United States\",\"United States\",\"United States\",\"United Kingdom\",\"United States\",\"United States\",\"Germany\",\"Argentina\",\"United States\",\"United States\",\"United States\",\"United States\",\"United States\",\"India\",\"United States\",\"India\",\"United States\",\"United States\",\"United States\",\"United States\",\"Netherlands\",\"United States\",\"Denmark\",\"United States\",\"United States\",\"United States\",\"United States\",\"United States\",\"Singapore\",\"United States\",\"United States\",\"United States\",\"United States\",\"United States\",\"United States\",\"India\",\"United States\",\"Germany\",\"United States\",\"United States\",\"United States\",\"United States\",\"Germany\",\"United States\",\"Canada\",\"United States\",\"Sweden\",\"United States\",\"United States\",\"United States\",\"Canada\",\"Brazil\",\"India\",\"United States\",\"Indonesia\",\"India\",\"United States\",\"United States\",\"Sweden\",\"United States\",\"United States\",\"Germany\",\"Germany\",\"United States\",\"United Kingdom\",\"United States\",\"United States\",\"Brazil\",\"United States\",\"Israel\",\"Canada\",\"Australia\",\"United States\",\"Austria\",\"Thailand\",\"United States\",\"Denmark\",\"Romania\",\"Lithuania\",\"India\",\"United States\",\"United States\",\"United States\",\"United States\",\"Israel\",\"Nigeria\",\"Brazil\",\"United States\",\"Canada\",\"Germany\",\"Sweden\",\"United States\",\"United States\",\"Germany\",\"United States\",\"United States\",\"India\",\"United States\",\"Germany\",\"United States\",\"United Kingdom\",\"United States\",\"India\",\"United States\",\"United States\",\"United States\",\"United States\",\"United States\",\"Brazil\",\"United States\",\"United States\",\"Germany\",\"United States\",\"Canada\",\"United States\",\"United States\",\"Israel\",\"United States\",\"United States\",\"United States\",\"United States\",\"Singapore\",\"United States\",\"United States\",\"United States\",\"Brazil\",\"Australia\",\"United States\",\"United States\",\"Brazil\",\"Canada\",\"Israel\",\"United States\",\"United States\",\"United States\",\"United States\",\"Israel\",\"United States\",\"United States\",\"United States\",\"United States\",\"Kenya\",\"Chile\",\"Australia\",\"Brazil\",\"United Kingdom\",\"United States\",\"Canada\",\"United States\",\"Israel\",\"Brazil\",\"United States\",\"Australia\",\"United States\",\"United States\",\"Canada\",\"United States\",\"Brazil\",\"United States\",\"United States\",\"United States\",\"Israel\",\"United States\",\"Canada\",\"Canada\",\"Canada\",\"United States\",\"Canada\",\"United States\",\"United States\",\"India\",\"United States\",\"United States\",\"Canada\",\"United States\",\"United States\",\"Canada\",\"United States\",\"United States\",\"United States\",\"United States\",\"India\",\"United States\",\"United States\",\"United States\",\"Kenya\",\"United States\",\"Kenya\",\"United States\",\"United States\",\"Brazil\",\"Australia\",\"Israel\",\"India\",\"Canada\",\"United States\",\"United States\",\"United States\",\"Canada\",\"United States\",\"United States\",\"United States\",\"New Zealand\",\"United States\",\"Canada\",\"United States\",\"United States\",\"Canada\",\"Israel\",\"Canada\",\"Germany\",\"Israel\",\"Australia\",\"United States\",\"United States\",\"Australia\",\"United States\",\"United States\",\"Israel\",\"United States\",\"United States\",\"Brazil\",\"United States\",\"United Kingdom\",\"United States\",\"United States\",\"United States\",\"United States\",\"United States\",\"United States\",\"Netherlands\",\"United States\",\"United States\",\"United States\",\"United States\",\"United States\",\"Canada\",\"Israel\",\"United States\",\"Canada\",\"United States\",\"United States\",\"United States\",\"United States\",\"Germany\",\"United Kingdom\",\"United States\",\"United States\",\"United States\",\"India\",\"United States\",\"United States\",\"United States\",\"United Kingdom\",\"United States\",\"United States\",\"United States\",\"Senegal\",\"United States\",\"United States\",\"Germany\",\"United States\",\"Brazil\",\"United States\",\"United States\",\"United States\",\"India\",\"United Kingdom\",\"United States\",\"United Kingdom\",\"Brazil\",\"United States\",\"China\",\"United States\",\"United States\",\"United States\",\"United States\",\"United States\",\"United States\",\"United States\",\"Canada\",\"United States\",\"United States\",\"Brazil\",\"United States\",\"Israel\",\"United States\",\"United States\",\"Hong Kong\",\"United States\",\"United States\",\"Israel\",\"Israel\",\"United Kingdom\",\"Australia\",\"Germany\",\"Germany\",\"United States\",\"United States\",\"United States\",\"United States\",\"United States\",\"United States\",\"India\",\"United States\",\"United States\",\"United States\",\"United States\",\"Germany\",\"United States\",\"India\",\"United States\",\"United States\",\"United States\",\"United States\",\"Canada\",\"United States\",\"India\",\"Germany\",\"United States\",\"United States\",\"China\",\"India\",\"United States\",\"United States\",\"United States\",\"United Arab Emirates\",\"Israel\",\"Australia\",\"United States\",\"United States\",\"India\",\"United States\",\"Australia\",\"United States\",\"United States\",\"Austria\",\"United States\",\"United States\",\"United States\",\"United States\",\"United States\",\"United States\",\"United States\",\"United States\",\"United States\",\"United States\",\"United States\",\"United States\",\"United States\",\"United States\",\"United States\",\"United States\",\"Canada\",\"Brazil\",\"United States\",\"United States\",\"United States\",\"Singapore\",\"United States\",\"Singapore\",\"India\",\"Canada\",\"Australia\",\"India\",\"United Arab Emirates\",\"India\",\"China\",\"United States\",\"United States\",\"United States\",\"United States\",\"India\",\"Finland\",\"Canada\",\"United States\",\"United States\",\"Israel\",\"United States\",\"Denmark\",\"Israel\",\"Canada\",\"United States\",\"United States\",\"United States\",\"Brazil\",\"India\",\"Colombia\",\"United States\",\"United States\",\"United States\",\"United States\",\"Singapore\",\"India\",\"Germany\",\"Brazil\",\"United Kingdom\",\"United States\",\"United States\",\"United States\",\"Sweden\",\"United States\",\"United States\",\"Sweden\",\"United States\",\"Singapore\",\"United States\",\"United States\",\"Brazil\",\"United States\",\"Malaysia\",\"United Kingdom\",\"United Kingdom\",\"India\",\"Indonesia\",\"United States\",\"United States\",\"United States\",\"Canada\",\"United States\",\"India\",\"United States\",\"United States\",\"United States\",\"Brazil\",\"United States\",\"India\",\"Australia\",\"United States\",\"United States\",\"United States\",\"United States\",\"United States\",\"United States\",\"India\",\"Brazil\",\"United Kingdom\",\"United States\",\"United States\",\"United Kingdom\",\"United States\",\"Israel\",\"United States\",\"United States\",\"Israel\",\"United States\",\"United Arab Emirates\",\"India\",\"Brazil\",\"India\",\"India\",\"United Kingdom\",\"Brazil\",\"Mexico\",\"Romania\",\"United Kingdom\",\"Turkey\",\"United States\",\"United States\",\"United States\",\"Germany\",\"Germany\",\"United States\",\"Germany\",\"Indonesia\",\"United States\",\"Sweden\",\"United States\",\"Argentina\",\"Israel\",\"United States\",\"United States\",\"India\",\"United States\",\"United States\",\"United States\",\"India\",\"India\",\"United States\",\"Sweden\",\"United States\",\"United States\",\"Russia\",\"United States\",\"United States\",\"United States\",\"United States\",\"United States\",\"United States\",\"United States\",\"United Kingdom\",\"United States\",\"United States\",\"United States\",\"United States\",\"India\",\"United States\",\"United States\",\"Australia\",\"United States\",\"United States\",\"United States\",\"United States\",\"United States\",\"Israel\",\"United States\",\"United States\",\"United States\",\"United States\",\"United States\",\"Canada\",\"United States\",\"China\",\"Brazil\",\"United States\",\"United States\",\"Brazil\",\"Brazil\",\"United States\",\"United States\",\"United States\",\"India\",\"United States\",\"India\",\"Canada\",\"United States\",\"Seychelles\",\"Canada\",\"India\",\"Germany\",\"United States\",\"Canada\",\"India\",\"Sweden\",\"United States\",\"India\",\"United States\",\"United States\",\"United States\",\"United States\",\"China\",\"United States\",\"India\",\"India\",\"United States\",\"Sweden\",\"Brazil\",\"United States\",\"United States\",\"United States\",\"United States\",\"United States\",\"United States\",\"United States\",\"Germany\",\"United States\",\"United States\",\"United States\",\"United States\",\"United States\",\"United States\",\"United States\",\"United States\",\"China\",\"India\",\"United States\",\"United States\",\"United States\",\"United States\",\"United States\",\"India\",\"India\",\"United States\",\"United States\",\"United States\",\"Germany\",\"Canada\",\"India\",\"United Kingdom\",\"United States\",\"United States\",\"Singapore\",\"United States\",\"India\",\"United States\",\"Canada\",\"United States\",\"India\",\"United States\",\"United States\",\"United States\",\"United States\",\"United States\",\"United States\",\"United States\",\"Germany\",\"India\",\"United States\",\"United States\",\"United Kingdom\",\"United States\",\"United States\",\"Singapore\",\"India\",\"United States\",\"Australia\",\"United Kingdom\",\"Canada\",\"United States\",\"Singapore\",\"United States\",\"Canada\",\"United States\",\"Netherlands\",\"United States\",\"United States\",\"India\",\"Germany\",\"United States\",\"United States\",\"United States\",\"India\",\"United States\",\"United Kingdom\",\"United States\",\"India\",\"Singapore\",\"India\",\"United States\",\"United States\",\"United States\",\"United States\",\"United States\",\"United States\",\"United States\",\"India\",\"Germany\",\"United States\",\"United States\",\"United States\",\"United States\",\"Indonesia\",\"United States\",\"United States\",\"United States\",\"United Kingdom\",\"United States\",\"India\",\"India\",\"Singapore\",\"United States\",\"United States\",\"Netherlands\",\"United States\",\"Bulgaria\",\"United States\",\"United States\",\"Canada\",\"United States\",\"United States\",\"United States\",\"United States\",\"United Kingdom\",\"United States\",\"United States\",\"United States\",\"Germany\",\"United States\",\"United States\",\"United States\",\"United States\",\"United States\",\"India\",\"United States\",\"United States\",\"United States\",\"India\",\"United States\",\"United States\",\"Australia\",\"United States\",\"United States\",\"Brazil\",\"India\",\"United States\",\"United States\",\"India\",\"Ireland\",\"United States\",\"India\",\"United States\",\"India\",\"United States\",\"United States\",\"United States\",\"India\",\"United States\",\"India\",\"United Kingdom\",\"United Kingdom\",\"United States\",\"Singapore\",\"India\",\"India\",\"United States\",\"United States\",\"India\",\"India\",\"India\",\"United States\",\"United States\",\"United States\",\"United States\",\"United States\",\"United States\",\"United States\",\"Brazil\",\"United States\",\"Canada\",\"United States\",\"Brazil\",\"United States\",\"United States\",\"United States\",\"Canada\",\"United Kingdom\",\"United States\",\"United States\",\"United States\",\"United States\",\"Switzerland\",\"United States\",\"United States\",\"United States\",\"United States\",\"United States\",\"United States\",\"United States\",\"United States\",\"United States\",\"United States\",\"United States\",\"United States\",\"Estonia\",\"United States\",\"India\",\"United Arab Emirates\",\"Hong Kong\",\"Estonia\",\"Canada\",\"Australia\",\"Canada\",\"Israel\",\"United States\",\"United Kingdom\",\"United States\",\"United Kingdom\",\"United States\",\"United States\",\"Portugal\",\"United States\",\"United States\",\"United States\",\"United States\",\"United States\",\"United States\",\"United States\",\"United States\",\"United States\",\"United States\",\"Nigeria\",\"United Kingdom\",\"United States\",\"United States\",\"United States\",\"United States\",\"United States\",\"United States\",\"Brazil\",\"Indonesia\",\"United States\",\"United States\",\"Canada\",\"United States\",\"United States\",\"Germany\",\"United States\",\"United States\",\"Brazil\",\"United States\",\"United States\",\"United States\",\"United States\",\"United States\",\"United States\",\"United States\",\"United States\",\"India\",\"India\",\"United States\",\"United States\",\"United States\",\"United States\",\"Canada\",\"United States\",\"United States\",\"United States\",\"Israel\",\"Hong Kong\",\"United States\",\"United States\",\"Mexico\",\"Brazil\",\"United States\",\"United States\",\"United States\",\"India\",\"Brazil\",\"United States\",\"Brazil\",\"Brazil\",\"Singapore\",\"Denmark\",\"United States\",\"United States\",\"United States\",\"United States\",\"Singapore\",\"India\",\"United States\",\"United States\",\"India\",\"United States\",\"United States\",\"Indonesia\",\"United States\",\"United States\",\"Canada\",\"United States\",\"United States\",\"Canada\",\"United States\",\"United States\",\"United States\",\"United States\",\"Brazil\",\"United States\",\"United States\",\"Brazil\",\"United States\",\"Canada\",\"United States\",\"United States\",\"Brazil\",\"United States\",\"United States\",\"United States\",\"United States\",\"United States\",\"United States\",\"United States\",\"United States\",\"Brazil\",\"United States\",\"United States\",\"United States\",\"Canada\",\"United States\",\"Canada\",\"United Kingdom\",\"United States\",\"India\",\"United States\",\"United States\",\"United States\",\"Portugal\",\"United States\",\"United States\",\"United States\",\"United States\",\"United States\",\"Brazil\",\"Canada\",\"Brazil\",\"United States\",\"United States\",\"United States\",\"United States\",\"United States\",\"United States\",\"United States\",\"United States\",\"United States\",\"United States\",\"United States\",\"United States\",\"United States\",\"United States\",\"United States\",\"Brazil\",\"United States\",\"Brazil\",\"United States\",\"United States\",\"Canada\",\"Canada\",\"United States\",\"United States\",\"Malaysia\",\"Brazil\",\"United States\",\"Brazil\",\"United States\",\"United States\",\"United States\",\"Indonesia\",\"United States\",\"United States\",\"United States\",\"United States\",\"United States\",\"United States\",\"Canada\",\"United States\",\"United States\",\"United States\",\"United States\",\"United States\",\"United States\",\"United States\",\"Canada\",\"United States\",\"Germany\",\"Sweden\",\"United States\",\"United States\",\"United States\",\"United States\",\"United States\",\"India\",\"United States\",\"United States\",\"United States\",\"United States\",\"United States\",\"United States\",\"United States\",\"United States\",\"India\",\"United States\",\"United States\",\"Myanmar\",\"United States\",\"United States\",\"Germany\",\"United States\",\"United States\",\"India\",\"United States\",\"Israel\",\"United States\",\"United States\",\"Canada\",\"United States\",\"United States\",\"United States\",\"United States\",\"United States\",\"United States\",\"United States\",\"United States\",\"United States\",\"United States\",\"United States\",\"United States\",\"United States\",\"United States\",\"India\",\"Israel\",\"United States\",\"United States\",\"United States\",\"United States\",\"Estonia\",\"United States\",\"United States\",\"United States\",\"United States\",\"United States\",\"United States\",\"India\",\"United States\",\"United Kingdom\",\"United States\",\"Singapore\",\"United States\",\"United States\",\"United States\",\"United States\",\"United States\",\"United States\",\"United States\",\"Canada\",\"United States\",\"United States\",\"Canada\",\"Brazil\",\"United States\",\"United States\",\"United States\",\"United States\",\"United States\",\"United States\",\"India\",\"United States\",\"Canada\",\"United States\",\"United States\",\"United States\",\"United States\",\"United States\",\"United States\",\"Canada\",\"United States\",\"United States\",\"United States\",\"United States\",\"United States\",\"United States\",\"United States\",\"United States\",\"United States\",\"United States\",\"United States\",\"United States\",\"United States\",\"United States\",\"United States\",\"United States\",\"United States\",\"United States\",\"United States\",\"United States\",\"United States\",\"United States\",\"Canada\",\"United States\",\"India\",\"United States\",\"United States\",\"United States\",\"United States\",\"United States\",\"United States\",\"United States\",\"United States\",\"United States\",\"United States\"],\"xaxis\":\"x\",\"y\":[100.0,1000.0,400.0,65.0,60.0,45.0,40.0,20.0,11000.0,862.0,144.0,137.0,80.0,36.0,35.0,65.0,1000.0,350.0,350.0,190.0,110.0,25.0,3700.0,350.0,200.0,59.0,1000.0,700.0,150.0,100.0,60.0,550.0,156.0,142.0,134.0,100.0,100.0,50.0,10.0,226.0,140.0,100.0,70.0,70.0,50.0,24.0,300.0,60.0,30.0,25.0,23.0,100.0,32.0,210.0,84.0,13.0,400.0,300.0,200.0,94.0,150.0,30.0,17.0,400.0,198.0,100.0,62.0,23.0,120.0,43.0,30.0,227.0,64.0,23.0,20.0,250.0,32.0,20.0,84.0,56.0,50.0,50.0,24.0,378.0,200.0,90.0,65.0,2500.0,150.0,130.0,500.0,200.0,136.0,100.0,80.0,55.0,35.0,611.0,180.0,96.0,67.0,85.0,2000.0,500.0,110.0,51.0,50.0,50.0,40.0,60.0,78.0,125.0,40.0,671.0,40.0,180.0,70.0,26.0,24.0,110.0,100.0,100.0,271.0,109.0,78.0,75.0,200.0,29.0,180.0,190.0,40.0,193.0,70.0,35.0,800.0,59.0,50.0,30.0,100.0,100.0,80.0,60.0,25.0,11.0,350.0,58.0,5.0,200.0,55.0,23.0,150.0,60.0,60.0,50.0,49.0,45.0,27.0,40.0,30.0,23.0,100.0,90.0,70.0,55.0,12.0,1280.0,140.0,100.0,70.0,45.0,40.0,29.0,26.0,81.0,38.0,30.0,300.0,95.0,80.0,24.0,20.0,40.0,25.0,140.0,15.0,180.0,138.0,50.0,31.0,29.0,100.0,55.0,13.0,870.0,50.0,40.0,110.0,35.0,125.0,83.0,74.0,54.0,52.0,50.0,80.0,12.0,5.0,250.0,220.0,16.0,11.0,784.0,175.0,90.0,60.0,54.0,30.0,7.0,47.0,30.0,800.0,400.0,270.0,100.0,60.0,60.0,50.0,48.0,40.0,12.0,500.0,500.0,337.0,63.0,36.0,20.0,140.0,70.0,50.0,31.0,250.0,216.0,200.0,100.0,80.0,80.0,73.0,70.0,50.0,149.0,47.0,40.0,13.0,713.0,115.0,100.0,90.0,80.0,60.0,54.0,40.0,30.0,23.0,19.0,58.0,75.0,16.0,1000.0,125.0,50.0,43.0,40.0,22.0,136.0,60.0,60.0,45.0,23.0,22.0,840.0,39.0,30.0,30.0,1000.0,90.0,60.0,40.0,38.0,23.0,20.0,80.0,25.0,120.0,50.0,45.0,28.0,15.0,150.0,140.0,130.0,95.0,63.0,60.0,11.0,390.0,300.0,200.0,75.0,60.0,60.0,57.0,30.0,23.0,15.0,13.0,1000.0,450.0,38.0,28.0,28.0,94.0,68.0,30.0,100.0,63.0,24.0,23.0,85.0,54.0,42.0,39.0,300.0,262.0,120.0,100.0,100.0,70.0,12.0,7.0,1500.0,150.0,100.0,45.0,242.0,63.0,24.0,1500.0,1000.0,156.0,150.0,150.0,40.0,30.0,100.0,50.0,35.0,30.0,384.0,120.0,100.0,80.0,31.0,30.0,27.0,20.0,13.0,80.0,29.0,27.0,18.0,540.0,150.0,85.0,58.0,52.0,15.0,400.0,170.0,40.0,30.0,30.0,20.0,14.0,12.0,350.0,200.0,85.0,80.0,80.0,76.0,60.0,40.0,18.0,16.0,13.0,300.0,300.0,120.0,110.0,80.0,50.0,30.0,18.0,300.0,210.0,180.0,170.0,70.0,27.0,43.0,270.0,90.0,41.0,40.0,300.0,70.0,22.0,15.0,8.0,120.0,90.0,70.0,55.0,50.0,35.0,35.0,30.0,23.0,340.0,52.0,40.0,24.0,600.0,101.0,100.0,80.0,30.0,30.0,191.0,9.0,150.0,150.0,69.0,16.0,50.0,45.0,40.0,250.0,159.0,150.0,110.0,60.0,23.0,15.0,14.0,10.0,1100.0,470.0,450.0,75.0,50.0,30.0,24.0,250.0,56.0,33.0,260.0,250.0,100.0,60.0,45.0,20.0,950.0,330.0,200.0,90.0,80.0,70.0,40.0,31.0,26.0,250.0,150.0,150.0,50.0,750.0,750.0,180.0,150.0,138.0,130.0,40.0,60.0,50.0,40.0,23.0,21.0,250.0,170.0,170.0,140.0,100.0,100.0,59.0,30.0,29.0,25.0,100.0,100.0,90.0,65.0,34.0,31.0,30.0,25.0,250.0,50.0,44.0,30.0,12.0,400.0,100.0,100.0,145.0,40.0,29.0,200.0,80.0,80.0,50.0,4480.0,300.0,240.0,75.0,50.0,45.0,30.0,300.0,200.0,40.0,700.0,83.0,80.0,65.0,60.0,30.0,600.0,130.0,87.0,70.0,600.0,424.0,150.0,100.0,90.0,100.0,400.0,24.0,22.0,150.0,32.0,70.0,2500.0,310.0,200.0,30.0,270.0,750.0,62.0,200.0,90.0,72.0,300.0,97.0,87.0,45.0,40.0,25.0,500.0,495.0,150.0,25.0,50.0,340.0,29.0,22.0,180.0,260.0,52.0,200.0,160.0,159.0,10.0,44.0,100.0,150.0,20.0,1000.0,70.0,450.0,75.0,23.0,350.0,59.0,450.0,100.0,180.0,100.0,150.0,300.0,115.0,3000.0,100.0,100.0,500.0,190.0,30.0,150.0,111.0,120.0,100.0,119.0,138.0,2800.0,57.0,100.0,80.0,330.0,300.0,900.0,70.0,2000.0,22.0,120.0,41.0,30.0,37.0,1800.0,80.0,2434.0,65.0,36.0,160.0,47.0,200.0,200.0,243.0,80.0,13.0,87.0,45.0,1800.0,20.0,180.0,1877.0,21.0,315.0,1800.0,78.0,120.0,54.0,600.0,5.0,154.0,18.0,30.0,82.0,20.0,8.0,90.0,250.0,47.0,240.0,20.0,30.0,250.0,22.0,350.0,1000.0,30.0,8.0,30.0,250.0,20.0,150.0,75.0,56.0,4375.0,87.0,180.0,350.0,75.0,64.0,960.0,22.0,120.0,60.0,300.0,63.0,140.0,100.0,40.0,85.0,56.0,18.0,12.0,5.0,17.0,400.0,130.0,100.0,61.0,20.0,451.0,174.0,430.0,90.0,6.0,715.0,200.0,15.0,40.0,1500.0,360.0,70.0,44.0,225.0,63.0,120.0,3.0,10.0,26.0,46.0,18.0,50.0,39.0,120.0,70.0,40.0,22.0,100.0,40.0,14.0,12.0,12.0,1400.0,350.0,24.0,62.0,32.0,270.0,219.0,200.0,36.0,20.0,150.0,62.0,600.0,137.0,50.0,200.0,21.0,400.0,70.0,18.0,1400.0,300.0,221.0,112.0,101.0,39.0,450.0,69.0,10.0,3000.0,1500.0,1100.0,100.0,57.0,45.0,250.0,520.0,500.0,16.0,150.0,80.0,70.0,35.0,30.0,669.0,51.0,25.0,19.0,17.0,1300.0,73.0,65.0,36.0,16.0,60.0,28.0,9.0,500.0,300.0,62.0,60.0,55.0,28.0,3700.0,130.0,100.0,50.0,50.0,1900.0,900.0,135.0,40.0,31.0,25.0,800.0,536.0,400.0,63.0,62.0,60.0,11.0,120.0,50.0,150.0,110.0,95.0,80.0,70.0,35.0,26.0,100.0,81.0,982.0,300.0,160.0,124.0,80.0,24.0,900.0,391.0,367.0,80.0,35.0,27.0,20.0,260.0,20.0,500.0,250.0,30.0,57.0,36.0,19.0,18.0,15.0,10.0,6.0,4.0,100.0,87.0,80.0,70.0,6.0,1000.0,55.0,10.0,800.0,500.0,460.0,155.0,78.0,40.0,38.0,30.0,19.0,13.0,10.0,300.0,91.0,90.0,90.0,33.0,28.0,23.0,10.0,200.0,140.0,120.0,88.0,47.0,44.0,40.0,35.0,30.0,13.0,130.0,65.0,60.0,600.0,200.0,200.0,200.0,161.0,100.0,40.0,15.0,14.0,13.0,235.0,131.0,58.0,45.0,21.0,15.0,10.0,2800.0,100.0,70.0,50.0,17.0,201.0,35.0,30.0,28.0,20.0,16.0,6.0,5.0,1000.0,165.0,150.0,136.0,90.0,90.0,40.0,36.0,25.0,14.0,8.0,500.0,200.0,92.0,89.0,86.0,80.0,48.0,40.0,30.0,25.0,21.0,18.0,17.0,11.0,4.0,1300.0,400.0,340.0,236.0,100.0,94.0,87.0,65.0,60.0,53.0,50.0,46.0,30.0,100.0,100.0,77.0,60.0,26.0,24.0,23.0,15.0,10.0,40.0,50.0,467.0,300.0,167.0,147.0,140.0,120.0,100.0,75.0,60.0,35.0,34.0,24.0,19.0,18.0,17.0,14.0,12.0,10.0,5.0,700.0,240.0,196.0,154.0,100.0,100.0,90.0,70.0,65.0,60.0,59.0,40.0,39.0,35.0,35.0,30.0,30.0,26.0,23.0,7.0,6.0,5.0,200.0,200.0,100.0,52.0,51.0,50.0,46.0,45.0,28.0,24.0,20.0,18.0,17.0,15.0,9.0,349.0,210.0,194.0,108.0,65.0,50.0,40.0,20.0,17.0,5.0,250.0,120.0,80.0,70.0,51.0,31.0,30.0,30.0,30.0,25.0,20.0,9.0,400.0,17.0,10.0,250.0,250.0,451.0,406.0,250.0,227.0,200.0,175.0,130.0,127.0,100.0,100.0,78.0,75.0,60.0,47.0,47.0,40.0,30.0,30.0,20.0,10.0,250.0,200.0,50.0,47.0,44.0,41.0,23.0,13.0,300.0,100.0,78.0,75.0,56.0,52.0,50.0,30.0,12.0,10.0,400.0,130.0,87.0,80.0,20.0,375.0,150.0,91.0,38.0,20.0,20.0,15.0,13.0,784.0,45.0,30.0,18.0,120.0,84.0,50.0,34.0,4.0,130.0,16.0,8.0,6.0,20.0,75.0],\"yaxis\":\"y\",\"type\":\"bar\"}],                        {\"template\":{\"data\":{\"bar\":[{\"error_x\":{\"color\":\"#2a3f5f\"},\"error_y\":{\"color\":\"#2a3f5f\"},\"marker\":{\"line\":{\"color\":\"#E5ECF6\",\"width\":0.5},\"pattern\":{\"fillmode\":\"overlay\",\"size\":10,\"solidity\":0.2}},\"type\":\"bar\"}],\"barpolar\":[{\"marker\":{\"line\":{\"color\":\"#E5ECF6\",\"width\":0.5},\"pattern\":{\"fillmode\":\"overlay\",\"size\":10,\"solidity\":0.2}},\"type\":\"barpolar\"}],\"carpet\":[{\"aaxis\":{\"endlinecolor\":\"#2a3f5f\",\"gridcolor\":\"white\",\"linecolor\":\"white\",\"minorgridcolor\":\"white\",\"startlinecolor\":\"#2a3f5f\"},\"baxis\":{\"endlinecolor\":\"#2a3f5f\",\"gridcolor\":\"white\",\"linecolor\":\"white\",\"minorgridcolor\":\"white\",\"startlinecolor\":\"#2a3f5f\"},\"type\":\"carpet\"}],\"choropleth\":[{\"colorbar\":{\"outlinewidth\":0,\"ticks\":\"\"},\"type\":\"choropleth\"}],\"contour\":[{\"colorbar\":{\"outlinewidth\":0,\"ticks\":\"\"},\"colorscale\":[[0.0,\"#0d0887\"],[0.1111111111111111,\"#46039f\"],[0.2222222222222222,\"#7201a8\"],[0.3333333333333333,\"#9c179e\"],[0.4444444444444444,\"#bd3786\"],[0.5555555555555556,\"#d8576b\"],[0.6666666666666666,\"#ed7953\"],[0.7777777777777778,\"#fb9f3a\"],[0.8888888888888888,\"#fdca26\"],[1.0,\"#f0f921\"]],\"type\":\"contour\"}],\"contourcarpet\":[{\"colorbar\":{\"outlinewidth\":0,\"ticks\":\"\"},\"type\":\"contourcarpet\"}],\"heatmap\":[{\"colorbar\":{\"outlinewidth\":0,\"ticks\":\"\"},\"colorscale\":[[0.0,\"#0d0887\"],[0.1111111111111111,\"#46039f\"],[0.2222222222222222,\"#7201a8\"],[0.3333333333333333,\"#9c179e\"],[0.4444444444444444,\"#bd3786\"],[0.5555555555555556,\"#d8576b\"],[0.6666666666666666,\"#ed7953\"],[0.7777777777777778,\"#fb9f3a\"],[0.8888888888888888,\"#fdca26\"],[1.0,\"#f0f921\"]],\"type\":\"heatmap\"}],\"heatmapgl\":[{\"colorbar\":{\"outlinewidth\":0,\"ticks\":\"\"},\"colorscale\":[[0.0,\"#0d0887\"],[0.1111111111111111,\"#46039f\"],[0.2222222222222222,\"#7201a8\"],[0.3333333333333333,\"#9c179e\"],[0.4444444444444444,\"#bd3786\"],[0.5555555555555556,\"#d8576b\"],[0.6666666666666666,\"#ed7953\"],[0.7777777777777778,\"#fb9f3a\"],[0.8888888888888888,\"#fdca26\"],[1.0,\"#f0f921\"]],\"type\":\"heatmapgl\"}],\"histogram\":[{\"marker\":{\"pattern\":{\"fillmode\":\"overlay\",\"size\":10,\"solidity\":0.2}},\"type\":\"histogram\"}],\"histogram2d\":[{\"colorbar\":{\"outlinewidth\":0,\"ticks\":\"\"},\"colorscale\":[[0.0,\"#0d0887\"],[0.1111111111111111,\"#46039f\"],[0.2222222222222222,\"#7201a8\"],[0.3333333333333333,\"#9c179e\"],[0.4444444444444444,\"#bd3786\"],[0.5555555555555556,\"#d8576b\"],[0.6666666666666666,\"#ed7953\"],[0.7777777777777778,\"#fb9f3a\"],[0.8888888888888888,\"#fdca26\"],[1.0,\"#f0f921\"]],\"type\":\"histogram2d\"}],\"histogram2dcontour\":[{\"colorbar\":{\"outlinewidth\":0,\"ticks\":\"\"},\"colorscale\":[[0.0,\"#0d0887\"],[0.1111111111111111,\"#46039f\"],[0.2222222222222222,\"#7201a8\"],[0.3333333333333333,\"#9c179e\"],[0.4444444444444444,\"#bd3786\"],[0.5555555555555556,\"#d8576b\"],[0.6666666666666666,\"#ed7953\"],[0.7777777777777778,\"#fb9f3a\"],[0.8888888888888888,\"#fdca26\"],[1.0,\"#f0f921\"]],\"type\":\"histogram2dcontour\"}],\"mesh3d\":[{\"colorbar\":{\"outlinewidth\":0,\"ticks\":\"\"},\"type\":\"mesh3d\"}],\"parcoords\":[{\"line\":{\"colorbar\":{\"outlinewidth\":0,\"ticks\":\"\"}},\"type\":\"parcoords\"}],\"pie\":[{\"automargin\":true,\"type\":\"pie\"}],\"scatter\":[{\"marker\":{\"colorbar\":{\"outlinewidth\":0,\"ticks\":\"\"}},\"type\":\"scatter\"}],\"scatter3d\":[{\"line\":{\"colorbar\":{\"outlinewidth\":0,\"ticks\":\"\"}},\"marker\":{\"colorbar\":{\"outlinewidth\":0,\"ticks\":\"\"}},\"type\":\"scatter3d\"}],\"scattercarpet\":[{\"marker\":{\"colorbar\":{\"outlinewidth\":0,\"ticks\":\"\"}},\"type\":\"scattercarpet\"}],\"scattergeo\":[{\"marker\":{\"colorbar\":{\"outlinewidth\":0,\"ticks\":\"\"}},\"type\":\"scattergeo\"}],\"scattergl\":[{\"marker\":{\"colorbar\":{\"outlinewidth\":0,\"ticks\":\"\"}},\"type\":\"scattergl\"}],\"scattermapbox\":[{\"marker\":{\"colorbar\":{\"outlinewidth\":0,\"ticks\":\"\"}},\"type\":\"scattermapbox\"}],\"scatterpolar\":[{\"marker\":{\"colorbar\":{\"outlinewidth\":0,\"ticks\":\"\"}},\"type\":\"scatterpolar\"}],\"scatterpolargl\":[{\"marker\":{\"colorbar\":{\"outlinewidth\":0,\"ticks\":\"\"}},\"type\":\"scatterpolargl\"}],\"scatterternary\":[{\"marker\":{\"colorbar\":{\"outlinewidth\":0,\"ticks\":\"\"}},\"type\":\"scatterternary\"}],\"surface\":[{\"colorbar\":{\"outlinewidth\":0,\"ticks\":\"\"},\"colorscale\":[[0.0,\"#0d0887\"],[0.1111111111111111,\"#46039f\"],[0.2222222222222222,\"#7201a8\"],[0.3333333333333333,\"#9c179e\"],[0.4444444444444444,\"#bd3786\"],[0.5555555555555556,\"#d8576b\"],[0.6666666666666666,\"#ed7953\"],[0.7777777777777778,\"#fb9f3a\"],[0.8888888888888888,\"#fdca26\"],[1.0,\"#f0f921\"]],\"type\":\"surface\"}],\"table\":[{\"cells\":{\"fill\":{\"color\":\"#EBF0F8\"},\"line\":{\"color\":\"white\"}},\"header\":{\"fill\":{\"color\":\"#C8D4E3\"},\"line\":{\"color\":\"white\"}},\"type\":\"table\"}]},\"layout\":{\"annotationdefaults\":{\"arrowcolor\":\"#2a3f5f\",\"arrowhead\":0,\"arrowwidth\":1},\"autotypenumbers\":\"strict\",\"coloraxis\":{\"colorbar\":{\"outlinewidth\":0,\"ticks\":\"\"}},\"colorscale\":{\"diverging\":[[0,\"#8e0152\"],[0.1,\"#c51b7d\"],[0.2,\"#de77ae\"],[0.3,\"#f1b6da\"],[0.4,\"#fde0ef\"],[0.5,\"#f7f7f7\"],[0.6,\"#e6f5d0\"],[0.7,\"#b8e186\"],[0.8,\"#7fbc41\"],[0.9,\"#4d9221\"],[1,\"#276419\"]],\"sequential\":[[0.0,\"#0d0887\"],[0.1111111111111111,\"#46039f\"],[0.2222222222222222,\"#7201a8\"],[0.3333333333333333,\"#9c179e\"],[0.4444444444444444,\"#bd3786\"],[0.5555555555555556,\"#d8576b\"],[0.6666666666666666,\"#ed7953\"],[0.7777777777777778,\"#fb9f3a\"],[0.8888888888888888,\"#fdca26\"],[1.0,\"#f0f921\"]],\"sequentialminus\":[[0.0,\"#0d0887\"],[0.1111111111111111,\"#46039f\"],[0.2222222222222222,\"#7201a8\"],[0.3333333333333333,\"#9c179e\"],[0.4444444444444444,\"#bd3786\"],[0.5555555555555556,\"#d8576b\"],[0.6666666666666666,\"#ed7953\"],[0.7777777777777778,\"#fb9f3a\"],[0.8888888888888888,\"#fdca26\"],[1.0,\"#f0f921\"]]},\"colorway\":[\"#636efa\",\"#EF553B\",\"#00cc96\",\"#ab63fa\",\"#FFA15A\",\"#19d3f3\",\"#FF6692\",\"#B6E880\",\"#FF97FF\",\"#FECB52\"],\"font\":{\"color\":\"#2a3f5f\"},\"geo\":{\"bgcolor\":\"white\",\"lakecolor\":\"white\",\"landcolor\":\"#E5ECF6\",\"showlakes\":true,\"showland\":true,\"subunitcolor\":\"white\"},\"hoverlabel\":{\"align\":\"left\"},\"hovermode\":\"closest\",\"mapbox\":{\"style\":\"light\"},\"paper_bgcolor\":\"white\",\"plot_bgcolor\":\"#E5ECF6\",\"polar\":{\"angularaxis\":{\"gridcolor\":\"white\",\"linecolor\":\"white\",\"ticks\":\"\"},\"bgcolor\":\"#E5ECF6\",\"radialaxis\":{\"gridcolor\":\"white\",\"linecolor\":\"white\",\"ticks\":\"\"}},\"scene\":{\"xaxis\":{\"backgroundcolor\":\"#E5ECF6\",\"gridcolor\":\"white\",\"gridwidth\":2,\"linecolor\":\"white\",\"showbackground\":true,\"ticks\":\"\",\"zerolinecolor\":\"white\"},\"yaxis\":{\"backgroundcolor\":\"#E5ECF6\",\"gridcolor\":\"white\",\"gridwidth\":2,\"linecolor\":\"white\",\"showbackground\":true,\"ticks\":\"\",\"zerolinecolor\":\"white\"},\"zaxis\":{\"backgroundcolor\":\"#E5ECF6\",\"gridcolor\":\"white\",\"gridwidth\":2,\"linecolor\":\"white\",\"showbackground\":true,\"ticks\":\"\",\"zerolinecolor\":\"white\"}},\"shapedefaults\":{\"line\":{\"color\":\"#2a3f5f\"}},\"ternary\":{\"aaxis\":{\"gridcolor\":\"white\",\"linecolor\":\"white\",\"ticks\":\"\"},\"baxis\":{\"gridcolor\":\"white\",\"linecolor\":\"white\",\"ticks\":\"\"},\"bgcolor\":\"#E5ECF6\",\"caxis\":{\"gridcolor\":\"white\",\"linecolor\":\"white\",\"ticks\":\"\"}},\"title\":{\"x\":0.05},\"xaxis\":{\"automargin\":true,\"gridcolor\":\"white\",\"linecolor\":\"white\",\"ticks\":\"\",\"title\":{\"standoff\":15},\"zerolinecolor\":\"white\",\"zerolinewidth\":2},\"yaxis\":{\"automargin\":true,\"gridcolor\":\"white\",\"linecolor\":\"white\",\"ticks\":\"\",\"title\":{\"standoff\":15},\"zerolinecolor\":\"white\",\"zerolinewidth\":2}}},\"xaxis\":{\"anchor\":\"y\",\"domain\":[0.0,1.0],\"title\":{\"text\":\"country\"}},\"yaxis\":{\"anchor\":\"x\",\"domain\":[0.0,1.0],\"title\":{\"text\":\"total_laid_off\"}},\"legend\":{\"tracegroupgap\":0},\"margin\":{\"t\":60},\"barmode\":\"relative\"},                        {\"responsive\": true}                    ).then(function(){\n",
              "                            \n",
              "var gd = document.getElementById('2ad0952d-c169-418d-a536-1052e1e6ad42');\n",
              "var x = new MutationObserver(function (mutations, observer) {{\n",
              "        var display = window.getComputedStyle(gd).display;\n",
              "        if (!display || display === 'none') {{\n",
              "            console.log([gd, 'removed!']);\n",
              "            Plotly.purge(gd);\n",
              "            observer.disconnect();\n",
              "        }}\n",
              "}});\n",
              "\n",
              "// Listen for the removal of the full notebook cells\n",
              "var notebookContainer = gd.closest('#notebook-container');\n",
              "if (notebookContainer) {{\n",
              "    x.observe(notebookContainer, {childList: true});\n",
              "}}\n",
              "\n",
              "// Listen for the clearing of the current output cell\n",
              "var outputEl = gd.closest('.output');\n",
              "if (outputEl) {{\n",
              "    x.observe(outputEl, {childList: true});\n",
              "}}\n",
              "\n",
              "                        })                };                            </script>        </div>\n",
              "</body>\n",
              "</html>"
            ]
          },
          "metadata": {}
        }
      ]
    },
    {
      "cell_type": "code",
      "source": [
        "fig = px.bar(df1, x=\"total_laid_off\", y=\"industry\")\n",
        "fig.show()"
      ],
      "metadata": {
        "colab": {
          "base_uri": "https://localhost:8080/",
          "height": 542
        },
        "id": "xCu7O5IYRFvk",
        "outputId": "95d3be08-4387-41ab-e470-8e4558f598c9"
      },
      "execution_count": null,
      "outputs": [
        {
          "output_type": "display_data",
          "data": {
            "text/html": [
              "<html>\n",
              "<head><meta charset=\"utf-8\" /></head>\n",
              "<body>\n",
              "    <div>            <script src=\"https://cdnjs.cloudflare.com/ajax/libs/mathjax/2.7.5/MathJax.js?config=TeX-AMS-MML_SVG\"></script><script type=\"text/javascript\">if (window.MathJax) {MathJax.Hub.Config({SVG: {font: \"STIX-Web\"}});}</script>                <script type=\"text/javascript\">window.PlotlyConfig = {MathJaxConfig: 'local'};</script>\n",
              "        <script src=\"https://cdn.plot.ly/plotly-2.8.3.min.js\"></script>                <div id=\"8d818cfa-d495-4621-bbc1-6d72045a635c\" class=\"plotly-graph-div\" style=\"height:525px; width:100%;\"></div>            <script type=\"text/javascript\">                                    window.PLOTLYENV=window.PLOTLYENV || {};                                    if (document.getElementById(\"8d818cfa-d495-4621-bbc1-6d72045a635c\")) {                    Plotly.newPlot(                        \"8d818cfa-d495-4621-bbc1-6d72045a635c\",                        [{\"alignmentgroup\":\"True\",\"hovertemplate\":\"total_laid_off=%{x}<br>industry=%{y}<extra></extra>\",\"legendgroup\":\"\",\"marker\":{\"color\":\"#636efa\",\"pattern\":{\"shape\":\"\"}},\"name\":\"\",\"offsetgroup\":\"\",\"orientation\":\"h\",\"showlegend\":false,\"textposition\":\"auto\",\"x\":[100.0,1000.0,400.0,65.0,60.0,45.0,40.0,20.0,11000.0,862.0,144.0,137.0,80.0,36.0,35.0,65.0,1000.0,350.0,350.0,190.0,110.0,25.0,3700.0,350.0,200.0,59.0,1000.0,700.0,150.0,100.0,60.0,550.0,156.0,142.0,134.0,100.0,100.0,50.0,10.0,226.0,140.0,100.0,70.0,70.0,50.0,24.0,300.0,60.0,30.0,25.0,23.0,100.0,32.0,210.0,84.0,13.0,400.0,300.0,200.0,94.0,150.0,30.0,17.0,400.0,198.0,100.0,62.0,23.0,120.0,43.0,30.0,227.0,64.0,23.0,20.0,250.0,32.0,20.0,84.0,56.0,50.0,50.0,24.0,378.0,200.0,90.0,65.0,2500.0,150.0,130.0,500.0,200.0,136.0,100.0,80.0,55.0,35.0,611.0,180.0,96.0,67.0,85.0,2000.0,500.0,110.0,51.0,50.0,50.0,40.0,60.0,78.0,125.0,40.0,671.0,40.0,180.0,70.0,26.0,24.0,110.0,100.0,100.0,271.0,109.0,78.0,75.0,200.0,29.0,180.0,190.0,40.0,193.0,70.0,35.0,800.0,59.0,50.0,30.0,100.0,100.0,80.0,60.0,25.0,11.0,350.0,58.0,5.0,200.0,55.0,23.0,150.0,60.0,60.0,50.0,49.0,45.0,27.0,40.0,30.0,23.0,100.0,90.0,70.0,55.0,12.0,1280.0,140.0,100.0,70.0,45.0,40.0,29.0,26.0,81.0,38.0,30.0,300.0,95.0,80.0,24.0,20.0,40.0,25.0,140.0,15.0,180.0,138.0,50.0,31.0,29.0,100.0,55.0,13.0,870.0,50.0,40.0,110.0,35.0,125.0,83.0,74.0,54.0,52.0,50.0,80.0,12.0,5.0,250.0,220.0,16.0,11.0,784.0,175.0,90.0,60.0,54.0,30.0,7.0,47.0,30.0,800.0,400.0,270.0,100.0,60.0,60.0,50.0,48.0,40.0,12.0,500.0,500.0,337.0,63.0,36.0,20.0,140.0,70.0,50.0,31.0,250.0,216.0,200.0,100.0,80.0,80.0,73.0,70.0,50.0,149.0,47.0,40.0,13.0,713.0,115.0,100.0,90.0,80.0,60.0,54.0,40.0,30.0,23.0,19.0,58.0,75.0,16.0,1000.0,125.0,50.0,43.0,40.0,22.0,136.0,60.0,60.0,45.0,23.0,22.0,840.0,39.0,30.0,30.0,1000.0,90.0,60.0,40.0,38.0,23.0,20.0,80.0,25.0,120.0,50.0,45.0,28.0,15.0,150.0,140.0,130.0,95.0,63.0,60.0,11.0,390.0,300.0,200.0,75.0,60.0,60.0,57.0,30.0,23.0,15.0,13.0,1000.0,450.0,38.0,28.0,28.0,94.0,68.0,30.0,100.0,63.0,24.0,23.0,85.0,54.0,42.0,39.0,300.0,262.0,120.0,100.0,100.0,70.0,12.0,7.0,1500.0,150.0,100.0,45.0,242.0,63.0,24.0,1500.0,1000.0,156.0,150.0,150.0,40.0,30.0,100.0,50.0,35.0,30.0,384.0,120.0,100.0,80.0,31.0,30.0,27.0,20.0,13.0,80.0,29.0,27.0,18.0,540.0,150.0,85.0,58.0,52.0,15.0,400.0,170.0,40.0,30.0,30.0,20.0,14.0,12.0,350.0,200.0,85.0,80.0,80.0,76.0,60.0,40.0,18.0,16.0,13.0,300.0,300.0,120.0,110.0,80.0,50.0,30.0,18.0,300.0,210.0,180.0,170.0,70.0,27.0,43.0,270.0,90.0,41.0,40.0,300.0,70.0,22.0,15.0,8.0,120.0,90.0,70.0,55.0,50.0,35.0,35.0,30.0,23.0,340.0,52.0,40.0,24.0,600.0,101.0,100.0,80.0,30.0,30.0,191.0,9.0,150.0,150.0,69.0,16.0,50.0,45.0,40.0,250.0,159.0,150.0,110.0,60.0,23.0,15.0,14.0,10.0,1100.0,470.0,450.0,75.0,50.0,30.0,24.0,250.0,56.0,33.0,260.0,250.0,100.0,60.0,45.0,20.0,950.0,330.0,200.0,90.0,80.0,70.0,40.0,31.0,26.0,250.0,150.0,150.0,50.0,750.0,750.0,180.0,150.0,138.0,130.0,40.0,60.0,50.0,40.0,23.0,21.0,250.0,170.0,170.0,140.0,100.0,100.0,59.0,30.0,29.0,25.0,100.0,100.0,90.0,65.0,34.0,31.0,30.0,25.0,250.0,50.0,44.0,30.0,12.0,400.0,100.0,100.0,145.0,40.0,29.0,200.0,80.0,80.0,50.0,4480.0,300.0,240.0,75.0,50.0,45.0,30.0,300.0,200.0,40.0,700.0,83.0,80.0,65.0,60.0,30.0,600.0,130.0,87.0,70.0,600.0,424.0,150.0,100.0,90.0,100.0,400.0,24.0,22.0,150.0,32.0,70.0,2500.0,310.0,200.0,30.0,270.0,750.0,62.0,200.0,90.0,72.0,300.0,97.0,87.0,45.0,40.0,25.0,500.0,495.0,150.0,25.0,50.0,340.0,29.0,22.0,180.0,260.0,52.0,200.0,160.0,159.0,10.0,44.0,100.0,150.0,20.0,1000.0,70.0,450.0,75.0,23.0,350.0,59.0,450.0,100.0,180.0,100.0,150.0,300.0,115.0,3000.0,100.0,100.0,500.0,190.0,30.0,150.0,111.0,120.0,100.0,119.0,138.0,2800.0,57.0,100.0,80.0,330.0,300.0,900.0,70.0,2000.0,22.0,120.0,41.0,30.0,37.0,1800.0,80.0,2434.0,65.0,36.0,160.0,47.0,200.0,200.0,243.0,80.0,13.0,87.0,45.0,1800.0,20.0,180.0,1877.0,21.0,315.0,1800.0,78.0,120.0,54.0,600.0,5.0,154.0,18.0,30.0,82.0,20.0,8.0,90.0,250.0,47.0,240.0,20.0,30.0,250.0,22.0,350.0,1000.0,30.0,8.0,30.0,250.0,20.0,150.0,75.0,56.0,4375.0,87.0,180.0,350.0,75.0,64.0,960.0,22.0,120.0,60.0,300.0,63.0,140.0,100.0,40.0,85.0,56.0,18.0,12.0,5.0,17.0,400.0,130.0,100.0,61.0,20.0,451.0,174.0,430.0,90.0,6.0,715.0,200.0,15.0,40.0,1500.0,360.0,70.0,44.0,225.0,63.0,120.0,3.0,10.0,26.0,46.0,18.0,50.0,39.0,120.0,70.0,40.0,22.0,100.0,40.0,14.0,12.0,12.0,1400.0,350.0,24.0,62.0,32.0,270.0,219.0,200.0,36.0,20.0,150.0,62.0,600.0,137.0,50.0,200.0,21.0,400.0,70.0,18.0,1400.0,300.0,221.0,112.0,101.0,39.0,450.0,69.0,10.0,3000.0,1500.0,1100.0,100.0,57.0,45.0,250.0,520.0,500.0,16.0,150.0,80.0,70.0,35.0,30.0,669.0,51.0,25.0,19.0,17.0,1300.0,73.0,65.0,36.0,16.0,60.0,28.0,9.0,500.0,300.0,62.0,60.0,55.0,28.0,3700.0,130.0,100.0,50.0,50.0,1900.0,900.0,135.0,40.0,31.0,25.0,800.0,536.0,400.0,63.0,62.0,60.0,11.0,120.0,50.0,150.0,110.0,95.0,80.0,70.0,35.0,26.0,100.0,81.0,982.0,300.0,160.0,124.0,80.0,24.0,900.0,391.0,367.0,80.0,35.0,27.0,20.0,260.0,20.0,500.0,250.0,30.0,57.0,36.0,19.0,18.0,15.0,10.0,6.0,4.0,100.0,87.0,80.0,70.0,6.0,1000.0,55.0,10.0,800.0,500.0,460.0,155.0,78.0,40.0,38.0,30.0,19.0,13.0,10.0,300.0,91.0,90.0,90.0,33.0,28.0,23.0,10.0,200.0,140.0,120.0,88.0,47.0,44.0,40.0,35.0,30.0,13.0,130.0,65.0,60.0,600.0,200.0,200.0,200.0,161.0,100.0,40.0,15.0,14.0,13.0,235.0,131.0,58.0,45.0,21.0,15.0,10.0,2800.0,100.0,70.0,50.0,17.0,201.0,35.0,30.0,28.0,20.0,16.0,6.0,5.0,1000.0,165.0,150.0,136.0,90.0,90.0,40.0,36.0,25.0,14.0,8.0,500.0,200.0,92.0,89.0,86.0,80.0,48.0,40.0,30.0,25.0,21.0,18.0,17.0,11.0,4.0,1300.0,400.0,340.0,236.0,100.0,94.0,87.0,65.0,60.0,53.0,50.0,46.0,30.0,100.0,100.0,77.0,60.0,26.0,24.0,23.0,15.0,10.0,40.0,50.0,467.0,300.0,167.0,147.0,140.0,120.0,100.0,75.0,60.0,35.0,34.0,24.0,19.0,18.0,17.0,14.0,12.0,10.0,5.0,700.0,240.0,196.0,154.0,100.0,100.0,90.0,70.0,65.0,60.0,59.0,40.0,39.0,35.0,35.0,30.0,30.0,26.0,23.0,7.0,6.0,5.0,200.0,200.0,100.0,52.0,51.0,50.0,46.0,45.0,28.0,24.0,20.0,18.0,17.0,15.0,9.0,349.0,210.0,194.0,108.0,65.0,50.0,40.0,20.0,17.0,5.0,250.0,120.0,80.0,70.0,51.0,31.0,30.0,30.0,30.0,25.0,20.0,9.0,400.0,17.0,10.0,250.0,250.0,451.0,406.0,250.0,227.0,200.0,175.0,130.0,127.0,100.0,100.0,78.0,75.0,60.0,47.0,47.0,40.0,30.0,30.0,20.0,10.0,250.0,200.0,50.0,47.0,44.0,41.0,23.0,13.0,300.0,100.0,78.0,75.0,56.0,52.0,50.0,30.0,12.0,10.0,400.0,130.0,87.0,80.0,20.0,375.0,150.0,91.0,38.0,20.0,20.0,15.0,13.0,784.0,45.0,30.0,18.0,120.0,84.0,50.0,34.0,4.0,130.0,16.0,8.0,6.0,20.0,75.0],\"xaxis\":\"x\",\"y\":[\"Real Estate\",\"Transportation\",\"Consumer\",null,\"Crypto\",\"Other\",\"Marketing\",\"Crypto\",\"Consumer\",\"Real Estate\",null,\"Finance\",\"Consumer\",\"Healthcare\",\"Consumer\",\"Healthcare\",\"Sales\",\"Education\",\"Support\",\"Finance\",\"Security\",\"Education\",\"Consumer\",\"Retail\",\"Other\",null,\"Finance\",\"Transportation\",\"Finance\",\"Food\",\"Logistics\",\"Real Estate\",\"Finance\",\"Finance\",\"Crypto\",\"Security\",\"Finance\",\"Food\",\"Crypto\",\"Travel\",\"Finance\",\"Recruiting\",\"Food\",\"Food\",\"Marketing\",\"Marketing\",\"Healthcare\",\"Legal\",\"Finance\",\"Finance\",\"Retail\",\"Food\",\"Healthcare\",\"Construction\",\"Finance\",\"HR\",\"Fitness\",\"Real Estate\",\"Security\",\"Finance\",\"Finance\",\"Finance\",\"HR\",\"Healthcare\",\"Security\",\"Real Estate\",\"Healthcare\",\"Healthcare\",\"Sales\",\"Finance\",\"Healthcare\",\"Marketing\",\"Real Estate\",\"Product\",\"Sales\",\"Food\",\"Finance\",\"Security\",\"Retail\",\"Retail\",\"Healthcare\",\"Marketing\",\"Media\",\"Real Estate\",\"Food\",\"Sales\",\"Consumer\",\"Education\",\"Sales\",\"Education\",\"Healthcare\",\"Finance\",\"Finance\",\"Real Estate\",\"Other\",\"Education\",\"Marketing\",\"Food\",\"Marketing\",\"Infrastructure\",\"Healthcare\",\"Data\",\"Crypto\",\"Fitness\",\"Real Estate\",\"Education\",\"Food\",\"Recruiting\",\"Real Estate\",\"Crypto\",\"Transportation\",\"Retail\",\"Infrastructure\",\"Sales\",\"Real Estate\",\"Finance\",\"Finance\",\"Food\",\"Security\",\"Crypto\",\"Finance\",\"Aerospace\",\"Real Estate\",\"Healthcare\",\"Support\",\"Transportation\",\"Transportation\",\"Healthcare\",\"Food\",\"Finance\",\"Finance\",\"Support\",\"Media\",\"HR\",\"Other\",\"Marketing\",\"Other\",\"Media\",\"Finance\",\"Marketing\",\"Media\",\"Transportation\",\"Data\",\"HR\",\"Food\",\"Energy\",\"Media\",\"Education\",\"Retail\",\"Healthcare\",\"Food\",\"Food\",\"Transportation\",\"Finance\",\"Support\",\"Product\",\"Sales\",\"Healthcare\",\"Legal\",\"Finance\",\"Crypto\",\"Healthcare\",\"Retail\",\"Fitness\",\"Finance\",\"Consumer\",\"Healthcare\",\"Finance\",\"Finance\",\"Sales\",\"Consumer\",\"Real Estate\",\"Retail\",\"Other\",\"Security\",\"Retail\",\"Retail\",\"Healthcare\",\"Other\",\"Other\",\"Finance\",\"Food\",\"Retail\",\"Real Estate\",\"Finance\",\"Transportation\",\"Retail\",\"Other\",\"HR\",\"HR\",\"Security\",\"Security\",\"Marketing\",\"Retail\",\"Finance\",\"Crypto\",\"Infrastructure\",\"Healthcare\",\"Security\",\"Other\",\"Crypto\",\"Other\",\"Crypto\",\"Finance\",\"Healthcare\",\"Data\",\"HR\",\"Healthcare\",\"Finance\",\"Healthcare\",\"Real Estate\",\"Fitness\",\"Healthcare\",\"Healthcare\",\"Logistics\",\"Retail\",\"Healthcare\",\"Recruiting\",\"Education\",\"Marketing\",\"Healthcare\",\"Marketing\",\"Infrastructure\",\"Marketing\",\"Retail\",\"Finance\",\"Consumer\",\"Retail\",\"Healthcare\",\"Sales\",\"Retail\",\"Logistics\",\"Transportation\",\"Consumer\",\"Data\",\"Marketing\",\"Consumer\",\"Construction\",\"Retail\",\"Marketing\",\"Finance\",\"Retail\",\"Consumer\",\"Healthcare\",\"Education\",\"Support\",\"Education\",\"Construction\",\"Support\",\"Healthcare\",\"Marketing\",\"Food\",\"HR\",\"Finance\",\"Security\",\"Education\",\"Logistics\",\"Product\",\"Sales\",\"Logistics\",\"HR\",\"Logistics\",\"Product\",\"Retail\",\"Finance\",\"Marketing\",\"HR\",\"Transportation\",\"Finance\",\"Food\",\"Food\",\"Marketing\",\"Travel\",\"Real Estate\",\"Education\",\"Finance\",\"Finance\",\"Retail\",\"Consumer\",\"Transportation\",\"Media\",\"Crypto\",\"Marketing\",\"Retail\",\"Real Estate\",\"Other\",\"Finance\",\"Marketing\",\"Recruiting\",\"Crypto\",\"Other\",\"Healthcare\",\"Support\",\"Healthcare\",\"HR\",\"Finance\",\"Healthcare\",\"Crypto\",\"Media\",\"Security\",\"Fitness\",\"Transportation\",\"Food\",\"Healthcare\",\"Food\",\"Real Estate\",\"Real Estate\",\"Finance\",\"Other\",\"Transportation\",\"Sales\",\"Other\",\"Media\",\"Sales\",\"HR\",\"Healthcare\",\"Healthcare\",\"Finance\",\"Retail\",\"HR\",\"Healthcare\",\"Crypto\",\"Marketing\",\"Finance\",\"Logistics\",\"Retail\",\"Marketing\",\"Finance\",\"HR\",\"Crypto\",\"Real Estate\",\"Finance\",\"Fitness\",\"Logistics\",\"Product\",\"Food\",\"Retail\",\"Consumer\",\"Transportation\",\"Food\",\"Food\",\"Healthcare\",\"Marketing\",\"Other\",\"Healthcare\",\"Marketing\",\"Other\",\"Food\",\"Healthcare\",\"Transportation\",\"Finance\",\"Marketing\",\"Marketing\",\"HR\",\"Retail\",\"Data\",\"Data\",\"Real Estate\",\"Marketing\",\"Finance\",\"Data\",\"Education\",\"Crypto\",\"Security\",\"Finance\",\"Retail\",\"Consumer\",\"Consumer\",\"Logistics\",\"Other\",\"Food\",\"Crypto\",\"Travel\",\"Transportation\",\"Healthcare\",\"Infrastructure\",\"Retail\",\"Education\",\"Finance\",\"Retail\",\"Security\",\"Product\",\"Finance\",\"Crypto\",\"Education\",\"Other\",\"Consumer\",\"Travel\",\"Data\",\"Transportation\",\"Infrastructure\",\"Transportation\",\"Other\",\"Transportation\",\"Media\",\"Crypto\",\"Education\",\"Retail\",\"Healthcare\",\"Retail\",\"Healthcare\",\"Data\",\"Healthcare\",\"Marketing\",\"Data\",\"Retail\",\"Healthcare\",\"Crypto\",\"Data\",\"Marketing\",\"Crypto\",\"Finance\",\"Finance\",\"Finance\",\"Media\",\"Security\",\"Security\",\"Finance\",\"Marketing\",\"Education\",\"Security\",\"Real Estate\",\"Security\",\"Support\",\"Transportation\",\"Transportation\",\"Sales\",\"Food\",\"Finance\",\"Support\",\"Marketing\",\"Product\",\"Crypto\",\"Healthcare\",\"Retail\",\"Food\",\"Retail\",\"Energy\",\"Retail\",\"Crypto\",\"Education\",\"Consumer\",\"Finance\",\"Security\",\"Food\",\"Real Estate\",\"Healthcare\",\"Retail\",\"Finance\",\"Food\",\"Legal\",\"Media\",\"Other\",\"Consumer\",\"Media\",\"Logistics\",\"Crypto\",\"Real Estate\",\"Real Estate\",\"Healthcare\",\"Healthcare\",\"HR\",\"Crypto\",\"Crypto\",\"Media\",\"Education\",\"Crypto\",\"Logistics\",\"Retail\",\"Healthcare\",\"Finance\",\"Finance\",\"Security\",\"Retail\",\"Retail\",\"Logistics\",\"Infrastructure\",\"Retail\",\"Retail\",\"Finance\",\"Education\",\"Travel\",\"Transportation\",\"Healthcare\",\"Retail\",\"Transportation\",\"Transportation\",\"Finance\",\"Marketing\",\"Transportation\",\"Security\",\"Retail\",\"Finance\",\"Other\",\"Education\",\"Consumer\",\"Food\",\"Healthcare\",\"Food\",\"Finance\",\"Construction\",\"Marketing\",\"Crypto\",\"Logistics\",\"Consumer\",\"Food\",\"Consumer\",\"Security\",\"Education\",\"Crypto\",\"Finance\",\"Product\",\"Education\",\"Travel\",\"Consumer\",\"Consumer\",\"Infrastructure\",\"Finance\",\"Transportation\",\"Education\",\"Transportation\",\"Consumer\",\"Finance\",\"Education\",\"Data\",\"Finance\",\"Retail\",\"Crypto\",\"Food\",\"Consumer\",\"Food\",\"Security\",\"Finance\",\"Finance\",\"Finance\",\"Finance\",\"Finance\",\"Food\",\"Education\",\"Finance\",\"Finance\",\"Finance\",\"Crypto\",\"Data\",\"Other\",\"Consumer\",\"Healthcare\",\"Security\",\"Media\",\"Consumer\",\"Transportation\",\"Education\",\"Media\",\"Healthcare\",\"Consumer\",\"Food\",\"Retail\",\"Healthcare\",\"Finance\",\"Fitness\",\"Education\",\"Data\",\"Transportation\",\"Finance\",\"Travel\",\"Security\",\"Transportation\",\"Transportation\",\"Healthcare\",\"Education\",\"Product\",\"Education\",\"Food\",\"Energy\",\"Consumer\",\"Finance\",\"Retail\",\"Finance\",\"Food\",\"Healthcare\",\"Education\",\"Media\",\"Fitness\",\"Finance\",\"Retail\",\"Marketing\",\"Consumer\",\"Retail\",\"Finance\",\"Finance\",\"Real Estate\",\"Real Estate\",\"Media\",\"Healthcare\",\"Transportation\",\"Retail\",\"Food\",\"Education\",\"Food\",\"Energy\",\"Crypto\",\"Media\",\"Retail\",\"Data\",\"Food\",\"Education\",\"Retail\",\"Media\",\"Healthcare\",\"Retail\",\"Real Estate\",\"Real Estate\",\"Healthcare\",\"Data\",\"Healthcare\",\"Retail\",\"Finance\",\"Education\",\"Transportation\",\"Finance\",\"Food\",\"Real Estate\",\"Other\",\"Fitness\",\"Real Estate\",\"Food\",\"Consumer\",\"Finance\",\"Food\",\"Real Estate\",\"Data\",\"Real Estate\",\"Product\",\"Other\",\"Education\",\"Security\",\"Education\",\"Consumer\",\"HR\",\"Construction\",\"Education\",\"Media\",\"Infrastructure\",\"Media\",\"Food\",\"Transportation\",\"Retail\",\"Other\",\"Recruiting\",\"Food\",\"Retail\",\"Consumer\",\"Data\",\"Food\",\"Food\",\"Marketing\",\"Other\",\"Education\",\"Security\",\"Real Estate\",\"Data\",\"Travel\",\"Finance\",\"Healthcare\",\"Healthcare\",\"Retail\",\"Healthcare\",\"Real Estate\",\"Education\",\"Travel\",\"Marketing\",\"Healthcare\",\"Data\",\"Media\",\"Transportation\",\"Media\",\"Finance\",\"Travel\",\"Sales\",\"Infrastructure\",\"Healthcare\",\"Retail\",\"Consumer\",\"Food\",\"Retail\",\"Food\",\"Sales\",\"Travel\",\"Retail\",\"Construction\",\"Food\",\"Finance\",\"HR\",\"Recruiting\",\"Finance\",\"Fitness\",\"Marketing\",\"Travel\",\"Consumer\",\"Logistics\",\"Retail\",\"Finance\",\"Finance\",\"Real Estate\",\"Marketing\",\"Media\",\"Consumer\",\"Marketing\",\"Construction\",\"Transportation\",\"Transportation\",\"Retail\",\"Infrastructure\",\"Marketing\",\"Consumer\",\"Transportation\",\"Finance\",\"Product\",\"Finance\",\"Real Estate\",\"Media\",\"Finance\",\"Finance\",\"Transportation\",\"Data\",\"Healthcare\",\"Transportation\",\"Finance\",\"Infrastructure\",\"Retail\",\"Media\",\"Support\",\"Media\",\"Finance\",\"Security\",\"Product\",\"Finance\",\"Aerospace\",\"Transportation\",\"Finance\",\"Transportation\",\"Transportation\",\"Finance\",\"Data\",\"Consumer\",\"Retail\",\"Travel\",\"Real Estate\",\"Finance\",\"Real Estate\",\"Consumer\",\"Transportation\",\"Consumer\",\"HR\",\"Retail\",\"Education\",\"Finance\",\"Transportation\",\"Education\",\"Finance\",\"Transportation\",\"Other\",\"Marketing\",\"Travel\",\"Product\",\"Transportation\",\"Logistics\",\"Travel\",\"Finance\",\"Marketing\",\"Support\",\"Retail\",\"Travel\",\"Product\",\"Transportation\",\"Travel\",\"Food\",\"Real Estate\",\"Infrastructure\",\"Legal\",\"Real Estate\",\"Food\",\"Finance\",\"HR\",\"Transportation\",\"Media\",\"Marketing\",\"Transportation\",\"Finance\",\"Retail\",\"Sales\",\"Finance\",\"Product\",\"Data\",\"Finance\",\"Real Estate\",\"Data\",\"Recruiting\",\"Education\",\"Finance\",\"Real Estate\",\"Finance\",\"Transportation\",\"Recruiting\",\"Finance\",\"Finance\",\"Sales\",\"Finance\",\"Transportation\",\"Data\",\"Education\",\"Marketing\",\"Data\",\"Travel\",\"Consumer\",\"Recruiting\",\"Recruiting\",\"Sales\",\"Recruiting\",\"Fitness\",\"Transportation\",\"Finance\",\"Security\",\"Other\",\"HR\",\"Sales\",\"Retail\",\"Other\",\"Travel\",\"HR\",\"Media\",\"Consumer\",\"Healthcare\",\"Finance\",\"Media\",\"Sales\",\"Consumer\",\"Transportation\",\"Real Estate\",\"Travel\",\"Food\",\"Transportation\",\"Logistics\",\"Travel\",\"Finance\",\"Food\",\"Data\",\"Marketing\",\"Finance\",\"Retail\",\"Other\",\"Real Estate\",\"Travel\",\"Food\",\"Other\",\"Transportation\",\"Support\",\"Marketing\",\"Finance\",\"Travel\",\"Healthcare\",\"Consumer\",\"Education\",\"Retail\",\"HR\",\"Data\",\"Healthcare\",\"Marketing\",\"Consumer\",\"HR\",\"Transportation\",\"Food\",\"Finance\",\"Finance\",\"Consumer\",\"Retail\",\"Healthcare\",\"Finance\",\"Media\",\"Education\",\"Media\",\"Logistics\",\"Travel\",\"Crypto\",\"Marketing\",\"Finance\",\"Support\",\"Transportation\",\"Healthcare\",\"Healthcare\",\"Logistics\",\"Education\",\"Recruiting\",\"Real Estate\",\"Real Estate\",\"Retail\",\"Education\",\"Food\",\"Marketing\",\"Security\",\"Transportation\",\"Finance\",\"Marketing\",\"Real Estate\",\"Consumer\",\"Retail\",\"Food\",\"Finance\",\"Finance\",\"HR\",\"Transportation\",\"Retail\",\"Retail\",\"Retail\",\"Food\",\"HR\",\"Consumer\",\"Consumer\",\"Data\",\"HR\",\"Retail\",\"Transportation\",\"Finance\",\"Logistics\",\"Finance\",\"Media\",\"Travel\",\"Finance\",\"Recruiting\",\"Data\",\"Construction\",\"Infrastructure\",\"Media\",\"Consumer\",\"Finance\",\"Legal\",\"Finance\",\"Data\",\"Data\",\"Support\",\"Retail\",\"Data\",\"Education\",\"Marketing\",\"Consumer\",\"Retail\",\"Transportation\",\"Finance\",\"Recruiting\",\"Support\",\"Marketing\",\"Real Estate\",\"Marketing\",\"Marketing\",\"Marketing\",\"Recruiting\",\"Product\",\"Consumer\",\"Food\",\"Food\",\"Food\",\"Healthcare\",\"Real Estate\",\"Marketing\",\"Finance\",\"Retail\",\"Healthcare\",\"Retail\",\"Marketing\",\"Media\",\"HR\",\"Finance\",\"Finance\",\"Marketing\",\"Marketing\",\"Finance\",\"Marketing\",\"Support\",\"Transportation\",\"Finance\",\"HR\",\"Aerospace\",\"Consumer\",\"Fitness\",\"Marketing\",\"Travel\",\"Retail\",\"Transportation\",\"Transportation\",\"Travel\",\"Logistics\",\"Retail\",\"Finance\",\"Infrastructure\",\"Media\",\"Media\",\"Healthcare\",\"Healthcare\",\"Media\",\"Retail\",\"Travel\",\"Media\",\"Fitness\",\"Construction\",\"Food\",\"Fitness\",\"Fitness\",\"Transportation\",\"Real Estate\",\"Retail\",\"Retail\",\"Security\",\"HR\",\"Transportation\",\"Recruiting\",\"Marketing\",\"HR\",\"Media\",\"Infrastructure\",\"HR\",\"Marketing\",\"Education\",\"Finance\",\"Food\",\"Consumer\",\"Travel\",\"Healthcare\",\"Marketing\",\"Media\",\"Finance\",\"Recruiting\",\"Finance\",\"Transportation\",\"Security\",\"Marketing\",\"Travel\",\"Finance\",\"Marketing\",\"Healthcare\",\"Logistics\",\"Marketing\",\"Consumer\",\"Transportation\",\"Logistics\",\"Real Estate\",\"Marketing\",\"Recruiting\",\"Fitness\",\"Marketing\",\"Consumer\",\"Energy\",\"Travel\",\"HR\",\"Finance\",\"Media\",\"Logistics\",\"Other\",\"Transportation\",\"Real Estate\",\"Retail\",\"Food\",\"Recruiting\",\"Marketing\",\"Consumer\",\"Travel\",\"Real Estate\",\"Aerospace\",\"Transportation\",\"Consumer\",\"Retail\",\"Data\",\"Food\",\"Real Estate\",\"Real Estate\",\"Transportation\",\"Transportation\",\"Finance\",\"Legal\",\"Construction\",\"Finance\",\"Real Estate\",\"Food\",\"Food\",\"Recruiting\",\"Marketing\",\"Retail\",\"Retail\",\"Travel\",\"Infrastructure\",\"Energy\",\"Transportation\",\"Real Estate\",\"Retail\",\"Other\",\"Travel\",\"Real Estate\",\"Product\",\"Media\",\"Travel\",\"Marketing\",\"Education\",\"Media\",\"Product\",\"Data\",\"Travel\",\"Consumer\",\"Food\",\"Real Estate\",\"Travel\",\"Real Estate\",\"Real Estate\",\"Retail\",\"Travel\",\"Marketing\",\"Data\",\"Recruiting\",\"Finance\",\"Fitness\",\"Travel\",\"Infrastructure\",\"Media\",\"Transportation\",\"Recruiting\",\"Travel\",\"Travel\",\"Marketing\",\"Travel\",\"Support\",\"Transportation\",\"Consumer\",\"Retail\",\"Logistics\"],\"yaxis\":\"y\",\"type\":\"bar\"}],                        {\"template\":{\"data\":{\"bar\":[{\"error_x\":{\"color\":\"#2a3f5f\"},\"error_y\":{\"color\":\"#2a3f5f\"},\"marker\":{\"line\":{\"color\":\"#E5ECF6\",\"width\":0.5},\"pattern\":{\"fillmode\":\"overlay\",\"size\":10,\"solidity\":0.2}},\"type\":\"bar\"}],\"barpolar\":[{\"marker\":{\"line\":{\"color\":\"#E5ECF6\",\"width\":0.5},\"pattern\":{\"fillmode\":\"overlay\",\"size\":10,\"solidity\":0.2}},\"type\":\"barpolar\"}],\"carpet\":[{\"aaxis\":{\"endlinecolor\":\"#2a3f5f\",\"gridcolor\":\"white\",\"linecolor\":\"white\",\"minorgridcolor\":\"white\",\"startlinecolor\":\"#2a3f5f\"},\"baxis\":{\"endlinecolor\":\"#2a3f5f\",\"gridcolor\":\"white\",\"linecolor\":\"white\",\"minorgridcolor\":\"white\",\"startlinecolor\":\"#2a3f5f\"},\"type\":\"carpet\"}],\"choropleth\":[{\"colorbar\":{\"outlinewidth\":0,\"ticks\":\"\"},\"type\":\"choropleth\"}],\"contour\":[{\"colorbar\":{\"outlinewidth\":0,\"ticks\":\"\"},\"colorscale\":[[0.0,\"#0d0887\"],[0.1111111111111111,\"#46039f\"],[0.2222222222222222,\"#7201a8\"],[0.3333333333333333,\"#9c179e\"],[0.4444444444444444,\"#bd3786\"],[0.5555555555555556,\"#d8576b\"],[0.6666666666666666,\"#ed7953\"],[0.7777777777777778,\"#fb9f3a\"],[0.8888888888888888,\"#fdca26\"],[1.0,\"#f0f921\"]],\"type\":\"contour\"}],\"contourcarpet\":[{\"colorbar\":{\"outlinewidth\":0,\"ticks\":\"\"},\"type\":\"contourcarpet\"}],\"heatmap\":[{\"colorbar\":{\"outlinewidth\":0,\"ticks\":\"\"},\"colorscale\":[[0.0,\"#0d0887\"],[0.1111111111111111,\"#46039f\"],[0.2222222222222222,\"#7201a8\"],[0.3333333333333333,\"#9c179e\"],[0.4444444444444444,\"#bd3786\"],[0.5555555555555556,\"#d8576b\"],[0.6666666666666666,\"#ed7953\"],[0.7777777777777778,\"#fb9f3a\"],[0.8888888888888888,\"#fdca26\"],[1.0,\"#f0f921\"]],\"type\":\"heatmap\"}],\"heatmapgl\":[{\"colorbar\":{\"outlinewidth\":0,\"ticks\":\"\"},\"colorscale\":[[0.0,\"#0d0887\"],[0.1111111111111111,\"#46039f\"],[0.2222222222222222,\"#7201a8\"],[0.3333333333333333,\"#9c179e\"],[0.4444444444444444,\"#bd3786\"],[0.5555555555555556,\"#d8576b\"],[0.6666666666666666,\"#ed7953\"],[0.7777777777777778,\"#fb9f3a\"],[0.8888888888888888,\"#fdca26\"],[1.0,\"#f0f921\"]],\"type\":\"heatmapgl\"}],\"histogram\":[{\"marker\":{\"pattern\":{\"fillmode\":\"overlay\",\"size\":10,\"solidity\":0.2}},\"type\":\"histogram\"}],\"histogram2d\":[{\"colorbar\":{\"outlinewidth\":0,\"ticks\":\"\"},\"colorscale\":[[0.0,\"#0d0887\"],[0.1111111111111111,\"#46039f\"],[0.2222222222222222,\"#7201a8\"],[0.3333333333333333,\"#9c179e\"],[0.4444444444444444,\"#bd3786\"],[0.5555555555555556,\"#d8576b\"],[0.6666666666666666,\"#ed7953\"],[0.7777777777777778,\"#fb9f3a\"],[0.8888888888888888,\"#fdca26\"],[1.0,\"#f0f921\"]],\"type\":\"histogram2d\"}],\"histogram2dcontour\":[{\"colorbar\":{\"outlinewidth\":0,\"ticks\":\"\"},\"colorscale\":[[0.0,\"#0d0887\"],[0.1111111111111111,\"#46039f\"],[0.2222222222222222,\"#7201a8\"],[0.3333333333333333,\"#9c179e\"],[0.4444444444444444,\"#bd3786\"],[0.5555555555555556,\"#d8576b\"],[0.6666666666666666,\"#ed7953\"],[0.7777777777777778,\"#fb9f3a\"],[0.8888888888888888,\"#fdca26\"],[1.0,\"#f0f921\"]],\"type\":\"histogram2dcontour\"}],\"mesh3d\":[{\"colorbar\":{\"outlinewidth\":0,\"ticks\":\"\"},\"type\":\"mesh3d\"}],\"parcoords\":[{\"line\":{\"colorbar\":{\"outlinewidth\":0,\"ticks\":\"\"}},\"type\":\"parcoords\"}],\"pie\":[{\"automargin\":true,\"type\":\"pie\"}],\"scatter\":[{\"marker\":{\"colorbar\":{\"outlinewidth\":0,\"ticks\":\"\"}},\"type\":\"scatter\"}],\"scatter3d\":[{\"line\":{\"colorbar\":{\"outlinewidth\":0,\"ticks\":\"\"}},\"marker\":{\"colorbar\":{\"outlinewidth\":0,\"ticks\":\"\"}},\"type\":\"scatter3d\"}],\"scattercarpet\":[{\"marker\":{\"colorbar\":{\"outlinewidth\":0,\"ticks\":\"\"}},\"type\":\"scattercarpet\"}],\"scattergeo\":[{\"marker\":{\"colorbar\":{\"outlinewidth\":0,\"ticks\":\"\"}},\"type\":\"scattergeo\"}],\"scattergl\":[{\"marker\":{\"colorbar\":{\"outlinewidth\":0,\"ticks\":\"\"}},\"type\":\"scattergl\"}],\"scattermapbox\":[{\"marker\":{\"colorbar\":{\"outlinewidth\":0,\"ticks\":\"\"}},\"type\":\"scattermapbox\"}],\"scatterpolar\":[{\"marker\":{\"colorbar\":{\"outlinewidth\":0,\"ticks\":\"\"}},\"type\":\"scatterpolar\"}],\"scatterpolargl\":[{\"marker\":{\"colorbar\":{\"outlinewidth\":0,\"ticks\":\"\"}},\"type\":\"scatterpolargl\"}],\"scatterternary\":[{\"marker\":{\"colorbar\":{\"outlinewidth\":0,\"ticks\":\"\"}},\"type\":\"scatterternary\"}],\"surface\":[{\"colorbar\":{\"outlinewidth\":0,\"ticks\":\"\"},\"colorscale\":[[0.0,\"#0d0887\"],[0.1111111111111111,\"#46039f\"],[0.2222222222222222,\"#7201a8\"],[0.3333333333333333,\"#9c179e\"],[0.4444444444444444,\"#bd3786\"],[0.5555555555555556,\"#d8576b\"],[0.6666666666666666,\"#ed7953\"],[0.7777777777777778,\"#fb9f3a\"],[0.8888888888888888,\"#fdca26\"],[1.0,\"#f0f921\"]],\"type\":\"surface\"}],\"table\":[{\"cells\":{\"fill\":{\"color\":\"#EBF0F8\"},\"line\":{\"color\":\"white\"}},\"header\":{\"fill\":{\"color\":\"#C8D4E3\"},\"line\":{\"color\":\"white\"}},\"type\":\"table\"}]},\"layout\":{\"annotationdefaults\":{\"arrowcolor\":\"#2a3f5f\",\"arrowhead\":0,\"arrowwidth\":1},\"autotypenumbers\":\"strict\",\"coloraxis\":{\"colorbar\":{\"outlinewidth\":0,\"ticks\":\"\"}},\"colorscale\":{\"diverging\":[[0,\"#8e0152\"],[0.1,\"#c51b7d\"],[0.2,\"#de77ae\"],[0.3,\"#f1b6da\"],[0.4,\"#fde0ef\"],[0.5,\"#f7f7f7\"],[0.6,\"#e6f5d0\"],[0.7,\"#b8e186\"],[0.8,\"#7fbc41\"],[0.9,\"#4d9221\"],[1,\"#276419\"]],\"sequential\":[[0.0,\"#0d0887\"],[0.1111111111111111,\"#46039f\"],[0.2222222222222222,\"#7201a8\"],[0.3333333333333333,\"#9c179e\"],[0.4444444444444444,\"#bd3786\"],[0.5555555555555556,\"#d8576b\"],[0.6666666666666666,\"#ed7953\"],[0.7777777777777778,\"#fb9f3a\"],[0.8888888888888888,\"#fdca26\"],[1.0,\"#f0f921\"]],\"sequentialminus\":[[0.0,\"#0d0887\"],[0.1111111111111111,\"#46039f\"],[0.2222222222222222,\"#7201a8\"],[0.3333333333333333,\"#9c179e\"],[0.4444444444444444,\"#bd3786\"],[0.5555555555555556,\"#d8576b\"],[0.6666666666666666,\"#ed7953\"],[0.7777777777777778,\"#fb9f3a\"],[0.8888888888888888,\"#fdca26\"],[1.0,\"#f0f921\"]]},\"colorway\":[\"#636efa\",\"#EF553B\",\"#00cc96\",\"#ab63fa\",\"#FFA15A\",\"#19d3f3\",\"#FF6692\",\"#B6E880\",\"#FF97FF\",\"#FECB52\"],\"font\":{\"color\":\"#2a3f5f\"},\"geo\":{\"bgcolor\":\"white\",\"lakecolor\":\"white\",\"landcolor\":\"#E5ECF6\",\"showlakes\":true,\"showland\":true,\"subunitcolor\":\"white\"},\"hoverlabel\":{\"align\":\"left\"},\"hovermode\":\"closest\",\"mapbox\":{\"style\":\"light\"},\"paper_bgcolor\":\"white\",\"plot_bgcolor\":\"#E5ECF6\",\"polar\":{\"angularaxis\":{\"gridcolor\":\"white\",\"linecolor\":\"white\",\"ticks\":\"\"},\"bgcolor\":\"#E5ECF6\",\"radialaxis\":{\"gridcolor\":\"white\",\"linecolor\":\"white\",\"ticks\":\"\"}},\"scene\":{\"xaxis\":{\"backgroundcolor\":\"#E5ECF6\",\"gridcolor\":\"white\",\"gridwidth\":2,\"linecolor\":\"white\",\"showbackground\":true,\"ticks\":\"\",\"zerolinecolor\":\"white\"},\"yaxis\":{\"backgroundcolor\":\"#E5ECF6\",\"gridcolor\":\"white\",\"gridwidth\":2,\"linecolor\":\"white\",\"showbackground\":true,\"ticks\":\"\",\"zerolinecolor\":\"white\"},\"zaxis\":{\"backgroundcolor\":\"#E5ECF6\",\"gridcolor\":\"white\",\"gridwidth\":2,\"linecolor\":\"white\",\"showbackground\":true,\"ticks\":\"\",\"zerolinecolor\":\"white\"}},\"shapedefaults\":{\"line\":{\"color\":\"#2a3f5f\"}},\"ternary\":{\"aaxis\":{\"gridcolor\":\"white\",\"linecolor\":\"white\",\"ticks\":\"\"},\"baxis\":{\"gridcolor\":\"white\",\"linecolor\":\"white\",\"ticks\":\"\"},\"bgcolor\":\"#E5ECF6\",\"caxis\":{\"gridcolor\":\"white\",\"linecolor\":\"white\",\"ticks\":\"\"}},\"title\":{\"x\":0.05},\"xaxis\":{\"automargin\":true,\"gridcolor\":\"white\",\"linecolor\":\"white\",\"ticks\":\"\",\"title\":{\"standoff\":15},\"zerolinecolor\":\"white\",\"zerolinewidth\":2},\"yaxis\":{\"automargin\":true,\"gridcolor\":\"white\",\"linecolor\":\"white\",\"ticks\":\"\",\"title\":{\"standoff\":15},\"zerolinecolor\":\"white\",\"zerolinewidth\":2}}},\"xaxis\":{\"anchor\":\"y\",\"domain\":[0.0,1.0],\"title\":{\"text\":\"total_laid_off\"}},\"yaxis\":{\"anchor\":\"x\",\"domain\":[0.0,1.0],\"title\":{\"text\":\"industry\"}},\"legend\":{\"tracegroupgap\":0},\"margin\":{\"t\":60},\"barmode\":\"relative\"},                        {\"responsive\": true}                    ).then(function(){\n",
              "                            \n",
              "var gd = document.getElementById('8d818cfa-d495-4621-bbc1-6d72045a635c');\n",
              "var x = new MutationObserver(function (mutations, observer) {{\n",
              "        var display = window.getComputedStyle(gd).display;\n",
              "        if (!display || display === 'none') {{\n",
              "            console.log([gd, 'removed!']);\n",
              "            Plotly.purge(gd);\n",
              "            observer.disconnect();\n",
              "        }}\n",
              "}});\n",
              "\n",
              "// Listen for the removal of the full notebook cells\n",
              "var notebookContainer = gd.closest('#notebook-container');\n",
              "if (notebookContainer) {{\n",
              "    x.observe(notebookContainer, {childList: true});\n",
              "}}\n",
              "\n",
              "// Listen for the clearing of the current output cell\n",
              "var outputEl = gd.closest('.output');\n",
              "if (outputEl) {{\n",
              "    x.observe(outputEl, {childList: true});\n",
              "}}\n",
              "\n",
              "                        })                };                            </script>        </div>\n",
              "</body>\n",
              "</html>"
            ]
          },
          "metadata": {}
        }
      ]
    },
    {
      "cell_type": "code",
      "source": [
        "df1.groupby('country')['total_laid_off'].sum().sort_values(ascending=False).head().plot(ylabel=\"\", figsize=(8,8), kind='pie', stacked=True, colormap='Accent')"
      ],
      "metadata": {
        "colab": {
          "base_uri": "https://localhost:8080/",
          "height": 483
        },
        "id": "bOZRWWsCNVKY",
        "outputId": "66ecb7b1-ed93-4275-9cce-0ea1baaeaa74"
      },
      "execution_count": null,
      "outputs": [
        {
          "output_type": "execute_result",
          "data": {
            "text/plain": [
              "<matplotlib.axes._subplots.AxesSubplot at 0x7f404e72e910>"
            ]
          },
          "metadata": {},
          "execution_count": 35
        },
        {
          "output_type": "display_data",
          "data": {
            "text/plain": [
              "<Figure size 576x576 with 1 Axes>"
            ],
            "image/png": "[encoded data removed]"
          },
          "metadata": {}
        }
      ]
    },
    {
      "cell_type": "code",
      "source": [
        "df1.groupby('industry')['total_laid_off'].sum().sort_values(ascending=False).head().plot(ylabel=\"\", figsize=(8,8), kind='pie', stacked=True, colormap='Accent')"
      ],
      "metadata": {
        "colab": {
          "base_uri": "https://localhost:8080/",
          "height": 483
        },
        "id": "LIfOFOQyO5MR",
        "outputId": "c0465a1f-cb3f-4e9a-c4c9-a25c8bd3b336"
      },
      "execution_count": null,
      "outputs": [
        {
          "output_type": "execute_result",
          "data": {
            "text/plain": [
              "<matplotlib.axes._subplots.AxesSubplot at 0x7f404e662ad0>"
            ]
          },
          "metadata": {},
          "execution_count": 36
        },
        {
          "output_type": "display_data",
          "data": {
            "text/plain": [
              "<Figure size 576x576 with 1 Axes>"
            ],
            "image/png": "[encoded data removed]"
          },
          "metadata": {}
        }
      ]
    },
    {
      "cell_type": "code",
      "source": [
        "df1.groupby('country')['total_laid_off'].sum().sort_values(ascending=False).head(5).plot(ylabel=\"\", figsize=(8,8), kind='bar', stacked=True, colormap='Accent')"
      ],
      "metadata": {
        "colab": {
          "base_uri": "https://localhost:8080/",
          "height": 572
        },
        "id": "oBHoifm2QONl",
        "outputId": "96269e32-99cd-40fb-bdff-0fb80454e9a4"
      },
      "execution_count": 28,
      "outputs": [
        {
          "output_type": "execute_result",
          "data": {
            "text/plain": [
              "<matplotlib.axes._subplots.AxesSubplot at 0x7f43891a3690>"
            ]
          },
          "metadata": {},
          "execution_count": 28
        },
        {
          "output_type": "display_data",
          "data": {
            "text/plain": [
              "<Figure size 576x576 with 1 Axes>"
            ],
            "image/png": "[encoded data removed]"
          },
          "metadata": {
            "needs_background": "light"
          }
        }
      ]
    },
    {
      "cell_type": "code",
      "source": [
        "df1.groupby(pd.to_datetime(df['date']).dt.year)['total_laid_off'].sum().plot( kind='bar', stacked=True)"
      ],
      "metadata": {
        "colab": {
          "base_uri": "https://localhost:8080/",
          "height": 321
        },
        "id": "CUMCXT_ltZjy",
        "outputId": "fca828c2-78eb-4c9f-89ba-21a6137345b6"
      },
      "execution_count": null,
      "outputs": [
        {
          "output_type": "execute_result",
          "data": {
            "text/plain": [
              "<matplotlib.axes._subplots.AxesSubplot at 0x7f404bebb6d0>"
            ]
          },
          "metadata": {},
          "execution_count": 48
        },
        {
          "output_type": "display_data",
          "data": {
            "text/plain": [
              "<Figure size 432x288 with 1 Axes>"
            ],
            "image/png": "[encoded data removed]"
          },
          "metadata": {
            "needs_background": "light"
          }
        }
      ]
    },
    {
      "cell_type": "code",
      "source": [
        "df.groupby(df['date'].dt.to_period('M'))['total_laid_off'].sum().plot( kind='bar', stacked=True, figsize=(8,8))\n",
        "\n"
      ],
      "metadata": {
        "colab": {
          "base_uri": "https://localhost:8080/",
          "height": 546
        },
        "id": "rEqeVzVNd-OC",
        "outputId": "50cc8107-7f3a-44b8-8c0e-99881fadf11c"
      },
      "execution_count": null,
      "outputs": [
        {
          "output_type": "execute_result",
          "data": {
            "text/plain": [
              "<matplotlib.axes._subplots.AxesSubplot at 0x7f404abd1950>"
            ]
          },
          "metadata": {},
          "execution_count": 66
        },
        {
          "output_type": "display_data",
          "data": {
            "text/plain": [
              "<Figure size 576x576 with 1 Axes>"
            ],
            "image/png": "[encoded data removed]"
          },
          "metadata": {
            "needs_background": "light"
          }
        }
      ]
    },
    {
      "cell_type": "code",
      "source": [
        "axs = df1.plot.area(figsize=(12, 4), subplots=True)\n",
        "\n",
        "plt.show()"
      ],
      "metadata": {
        "colab": {
          "base_uri": "https://localhost:8080/",
          "height": 265
        },
        "id": "FsQ1x9fTQPwb",
        "outputId": "cd6afb61-8e4e-4874-8caa-ea4aa9a121e0"
      },
      "execution_count": null,
      "outputs": [
        {
          "output_type": "display_data",
          "data": {
            "text/plain": [
              "<Figure size 864x288 with 3 Axes>"
            ],
            "image/png": "[encoded data removed]"
          },
          "metadata": {
            "needs_background": "light"
          }
        }
      ]
    },
    {
      "cell_type": "code",
      "source": [
        "# Companies with multiple layoffs\n",
        "df1.groupby('company')['date'].count().sort_values(ascending=False).head(10)"
      ],
      "metadata": {
        "colab": {
          "base_uri": "https://localhost:8080/"
        },
        "id": "d0J8WU-0p7xp",
        "outputId": "1a5ca793-c03c-4262-c327-7831ff9a8183"
      },
      "execution_count": null,
      "outputs": [
        {
          "output_type": "execute_result",
          "data": {
            "text/plain": [
              "company\n",
              "Uber          5\n",
              "Loft          4\n",
              "Shopify       4\n",
              "Patreon       4\n",
              "Gopuff        4\n",
              "Netflix       4\n",
              "Latch         4\n",
              "WeWork        4\n",
              "StockX        3\n",
              "Salesforce    3\n",
              "Name: date, dtype: int64"
            ]
          },
          "metadata": {},
          "execution_count": 70
        }
      ]
    },
    {
      "cell_type": "code",
      "source": [
        "# Companies with multiple layoffs\n",
        "#df1.groupby[('company')]['industry' , 'date'].count().sort_values(ascending=False).head(10)\n",
        "df1.groupby(['company',df['date'].dt.to_period('Y')])['date'].count().sort_values(ascending=False).head(20)"
      ],
      "metadata": {
        "colab": {
          "base_uri": "https://localhost:8080/"
        },
        "id": "btZvCDZa2jjC",
        "outputId": "f43e8e03-fd71-4b40-94be-043ea4a52557"
      },
      "execution_count": 44,
      "outputs": [
        {
          "output_type": "execute_result",
          "data": {
            "text/plain": [
              "company      date\n",
              "WeWork       2020    4\n",
              "Uber         2020    4\n",
              "Gopuff       2022    4\n",
              "Netflix      2022    4\n",
              "Shopify      2022    3\n",
              "Unacademy    2022    3\n",
              "Vedantu      2022    3\n",
              "OYO          2020    3\n",
              "Swiggy       2020    3\n",
              "Latch        2022    3\n",
              "Peloton      2022    3\n",
              "RenoRun      2022    3\n",
              "Hopin        2022    2\n",
              "Vroom        2022    2\n",
              "Oda          2022    2\n",
              "Knotel       2020    2\n",
              "McMakler     2022    2\n",
              "Beyond Meat  2022    2\n",
              "Gemini       2022    2\n",
              "Truepill     2022    2\n",
              "Name: date, dtype: int64"
            ]
          },
          "metadata": {},
          "execution_count": 44
        }
      ]
    },
    {
      "cell_type": "code",
      "source": [
        "df1.groupby(['company','date'])['total_laid_off'].sum().sort_values(ascending=False).head(20)"
      ],
      "metadata": {
        "colab": {
          "base_uri": "https://localhost:8080/"
        },
        "id": "q8x8U7fm5540",
        "outputId": "8fb8e77b-bab8-4736-9b36-2062cf848d9a"
      },
      "execution_count": 56,
      "outputs": [
        {
          "output_type": "execute_result",
          "data": {
            "text/plain": [
              "company      date      \n",
              "Meta         2022-11-09    11000.0\n",
              "Getir        2022-05-25     4480.0\n",
              "Booking.com  2020-07-30     4375.0\n",
              "Uber         2020-05-06     3700.0\n",
              "Twitter      2022-11-04     3700.0\n",
              "Better.com   2022-03-08     3000.0\n",
              "Uber         2020-05-18     3000.0\n",
              "Peloton      2022-02-08     2800.0\n",
              "Groupon      2020-04-13     2800.0\n",
              "Carvana      2022-05-10     2500.0\n",
              "Byju's       2022-10-12     2500.0\n",
              "Katerra      2021-06-01     2434.0\n",
              "Crypto.com   2022-10-06     2000.0\n",
              "Zillow       2021-11-02     2000.0\n",
              "Airbnb       2020-05-05     1900.0\n",
              "Instacart    2021-01-21     1877.0\n",
              "Bytedance    2021-08-05     1800.0\n",
              "WhiteHat Jr  2021-01-06     1800.0\n",
              "Bytedance    2021-01-27     1800.0\n",
              "Gopuff       2022-07-12     1500.0\n",
              "Name: total_laid_off, dtype: float64"
            ]
          },
          "metadata": {},
          "execution_count": 56
        }
      ]
    },
    {
      "cell_type": "code",
      "source": [
        "df1.groupby(['company','date'])['total_laid_off'].sum().sort_values(ascending=False).head(20).plot( kind='bar', stacked=True, figsize=(8,8))\n"
      ],
      "metadata": {
        "colab": {
          "base_uri": "https://localhost:8080/",
          "height": 688
        },
        "id": "vrcNpzhs4n6m",
        "outputId": "bb13db53-69b0-4745-fd1a-5421b571c2fa"
      },
      "execution_count": 55,
      "outputs": [
        {
          "output_type": "execute_result",
          "data": {
            "text/plain": [
              "<matplotlib.axes._subplots.AxesSubplot at 0x7f4385a37750>"
            ]
          },
          "metadata": {},
          "execution_count": 55
        },
        {
          "output_type": "display_data",
          "data": {
            "text/plain": [
              "<Figure size 576x576 with 1 Axes>"
            ],
            "image/png": "[encoded data removed]"
          },
          "metadata": {
            "needs_background": "light"
          }
        }
      ]
    },
    {
      "cell_type": "code",
      "source": [],
      "metadata": {
        "id": "Ib0uXG7tc9D2"
      },
      "execution_count": null,
      "outputs": []
    }
  ]
}